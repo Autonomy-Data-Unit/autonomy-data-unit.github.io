{
 "cells": [
  {
   "cell_type": "raw",
   "id": "ba3dbbfc",
   "metadata": {},
   "source": [
    "---\n",
    "title: \"Matplotlib Demo\"\n",
    "author: \"Norah Smith\"\n",
    "date: \"5/22/2021\"\n",
    "format: \n",
    "  html:\n",
    "    code-fold: true\n",
    "jupyter: python3\n",
    "---"
   ]
  },
  {
   "cell_type": "raw",
   "id": "1d0b691a",
   "metadata": {},
   "source": [
    "```{ojs}\n",
    "data = FileAttachment(\"penguins.csv\").csv({ typed: true })\n",
    "```"
   ]
  },
  {
   "cell_type": "raw",
   "id": "86964785",
   "metadata": {},
   "source": [
    "```{ojs}\n",
    "viewof bill_length_min = Inputs.range(\n",
    "  [32, 50], \n",
    "  {value: 35, step: 1, label: \"Bill length (min):\"}\n",
    ")\n",
    "viewof islands = Inputs.checkbox(\n",
    "  [\"Torgersen\", \"Biscoe\", \"Dream\"], \n",
    "  { value: [\"Torgersen\", \"Biscoe\"], \n",
    "    label: \"Islands:\"\n",
    "  }\n",
    ")\n",
    "```"
   ]
  },
  {
   "cell_type": "raw",
   "id": "0c637815",
   "metadata": {},
   "source": [
    "```{ojs}\n",
    "filtered = data.filter(function(penguin) {\n",
    "  return bill_length_min < penguin.bill_length &&\n",
    "         islands.includes(penguin.island);\n",
    "})\n",
    "```"
   ]
  },
  {
   "cell_type": "raw",
   "id": "10b2e6be",
   "metadata": {},
   "source": [
    "```{ojs}\n",
    "Plot.rectY(filtered, \n",
    "  Plot.binX(\n",
    "    {y: \"count\"}, \n",
    "    {x: \"body_mass\", fill: \"species\", thresholds: 20}\n",
    "  ))\n",
    "  .plot({\n",
    "    facet: {\n",
    "      data: filtered,\n",
    "      x: \"sex\",\n",
    "      y: \"species\",\n",
    "      marginRight: 80\n",
    "    },\n",
    "    marks: [\n",
    "      Plot.frame(),\n",
    "    ]\n",
    "  }\n",
    ")\n",
    "```"
   ]
  }
 ],
 "metadata": {
  "kernelspec": {
   "display_name": "python3",
   "language": "python",
   "name": "python3"
  }
 },
 "nbformat": 4,
 "nbformat_minor": 5
}
