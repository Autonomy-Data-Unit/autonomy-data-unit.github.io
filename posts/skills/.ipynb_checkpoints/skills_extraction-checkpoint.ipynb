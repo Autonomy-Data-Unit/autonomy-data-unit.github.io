{
 "cells": [
  {
   "cell_type": "markdown",
   "id": "2ec41a0b-18ef-437f-80b0-27c8bf5d50cf",
   "metadata": {},
   "source": [
    "---\n",
    "title: Skills Extraction with Large Language Models\n",
    "author: Sean Greaves\n",
    "description: Prompt design and fine-tuning models with Hugging Face and OpenAI\n",
    "date: 2023-08-10\n",
    "draft: false\n",
    "categories: [analysis]\n",
    "execute:\n",
    "    echo: false\n",
    "jupyter: python3\n",
    "---"
   ]
  },
  {
   "cell_type": "markdown",
   "id": "4cfadaff-29d7-461e-8e56-5492a449b6e8",
   "metadata": {},
   "source": [
    "![](assets/linkedin.png)"
   ]
  },
  {
   "cell_type": "markdown",
   "id": "648991e1-e7eb-4ccd-b9d7-7b980a2f19db",
   "metadata": {},
   "source": [
    "Skills extraction is a well explored task in natural language processing often applied to job ads and employment data to quantify the supply and demand of skills within a population. Skills extraction can help authorities aquire rich localised labour market data to inform policy. Such data can play an important role in planning for transitions such as ensuring the UK has the neccessary skills in place to retrofit the nation's housing stock to meet net-zero targets. Having the right composition of skills can mitigate the negative impacts of skills mismatches which can occur in both a surplus of skills, such as too many university graduates looking for high-quality roles, as well as shortages in skills like the supposed [dirth of UK tech talent in 2023](https://www.ft.com/content/b1b710a1-6d12-43e5-8508-ae4584a7289a)."
   ]
  },
  {
   "cell_type": "markdown",
   "id": "f0649ca0-5e39-442d-ad98-0d3becbedd41",
   "metadata": {},
   "source": [
    "In this post we will test drive some recent approaches to skills extraction using large language models. We prioritise approaches that are accessible, relatively low cost and can be tested fairly quickly. We are motivated by existing work applying LLMs to skills extraction such as [Nesta's taxonomies of UK skills](https://data-viz.nesta.org.uk/skills-taxonomy/index.html). "
   ]
  },
  {
   "cell_type": "code",
   "execution_count": null,
   "id": "c459f70a-c132-4837-abc4-afe4f0c6b9ae",
   "metadata": {},
   "outputs": [],
   "source": [
    "#| echo: false\n",
    "# Some examples in this post use OpenAI's models and can be run live if you would like to test our approaches. To run the examples you will need to input your API key below (we promise we won't steal your key for credits 😛):"
   ]
  },
  {
   "cell_type": "code",
   "execution_count": null,
   "id": "a170271f-ff4b-4d35-9c49-e6f8b1cc2d65",
   "metadata": {},
   "outputs": [],
   "source": [
    "#| echo: false\n",
    "import requests\n",
    "import ipywidgets as widgets\n",
    "from IPython.display import display, HTML\n",
    "import openai\n",
    "import re\n",
    "import pandas as pd \n",
    "import difflib\n",
    "import ast\n",
    "from typing import Tuple, List\n",
    "# from tqdm import tqdm"
   ]
  },
  {
   "cell_type": "code",
   "execution_count": null,
   "id": "8ee05c79-d10b-43ad-bc69-fc962f7042a8",
   "metadata": {},
   "outputs": [],
   "source": [
    "#| echo: false\n",
    "api_key = widgets.Password(description='API Key:', placeholder='Enter your OpenAI key here')\n",
    "\n",
    "# Create a button to validate the API key\n",
    "open_ai_auth_button = widgets.Button(description='Validate')\n",
    "\n",
    "# Define the button click event output widget\n",
    "output = widgets.Output()\n",
    "\n",
    "# Define the button click event function\n",
    "def on_button_clicked(b):\n",
    "    with output:\n",
    "        try:\n",
    "            headers = {\"Authorization\": f\"Bearer {api_key.value}\"}\n",
    "            response = requests.get('https://api.openai.com/v1/engines', headers=headers)\n",
    "            \n",
    "            if response.status_code == 200:\n",
    "                print('Authentication Successful!')\n",
    "                openai.api_key = api_key.value\n",
    "            else:\n",
    "                print(f'Authentication Failed. Status code: {response.status_code}')\n",
    "                \n",
    "        except Exception as e:\n",
    "            print(f'An error occurred: {e}')\n",
    "\n",
    "# Link the button click event to the defined function\n",
    "open_ai_auth_button.on_click(on_button_clicked)"
   ]
  },
  {
   "cell_type": "code",
   "execution_count": null,
   "id": "e75973f0-b0be-49bc-a908-cdb61b0598e8",
   "metadata": {},
   "outputs": [
    {
     "data": {
      "application/vnd.jupyter.widget-view+json": {
       "model_id": "ef02e34646944b95b1d7c118ee301a96",
       "version_major": 2,
       "version_minor": 0
      },
      "text/plain": [
       "Password(description='API Key:', placeholder='Enter your OpenAI key here')"
      ]
     },
     "metadata": {},
     "output_type": "display_data"
    },
    {
     "data": {
      "application/vnd.jupyter.widget-view+json": {
       "model_id": "3e21fedcca6d48a08ef7710c2c26786d",
       "version_major": 2,
       "version_minor": 0
      },
      "text/plain": [
       "Button(description='Validate', style=ButtonStyle())"
      ]
     },
     "metadata": {},
     "output_type": "display_data"
    },
    {
     "data": {
      "application/vnd.jupyter.widget-view+json": {
       "model_id": "7172ef1947a648acb05ed600b2c8b1e2",
       "version_major": 2,
       "version_minor": 0
      },
      "text/plain": [
       "Output()"
      ]
     },
     "metadata": {},
     "output_type": "display_data"
    }
   ],
   "source": [
    "#| echo: false\n",
    "display(api_key, open_ai_auth_button, output)"
   ]
  },
  {
   "cell_type": "markdown",
   "id": "880b3131-2d15-4abb-84ac-ec46ca465279",
   "metadata": {},
   "source": [
    "## 1. Token Classification"
   ]
  },
  {
   "cell_type": "markdown",
   "id": "bcefe4bd-60f8-486e-ac0a-31730bace2d5",
   "metadata": {},
   "source": [
    "Skills extraction can be approached as a named entity recognition task where we train models to label sequences of words that correspond to skills. This approach does require quality labelled datasets that can be time-consuming to build and difficult to source. The highest quality open dataset with skill annotations that we could get our hands on is ['Skillspan'](https://github.com/kris927b/SkillSpan) from Zhang et al. (2022) consisting of 265 annotated English language job profiles (14.5K sentences and over 12.5K annotated spans) for hard and soft skills. This excellent resource is released alongside a codebase and paper [‘SkillSpan: Hard and Soft Skill Extraction from Job Postings’](https://arxiv.org/abs/2204.12811) in which the researchers report performance benchmarks for several transformer models fine-tuned on SkillSpan. Furthermore, the paper includes the extensive annotation guidelines used by the researchers to label the SkillSpan dataset, giving an insight into how time-consuming this task most likely was.\n",
    "\n",
    "The data in SkillSpan is seperated into sentences labelled in the CoNNL format which looks like this:"
   ]
  },
  {
   "cell_type": "markdown",
   "id": "0f2c9a01-8385-4131-ac8d-e0eb4c7f4638",
   "metadata": {},
   "source": [
    "| Word | Skill |\n",
    "|------------|----------|\n",
    "| The | O |\n",
    "| candidate | O |\n",
    "| should | O |\n",
    "| be | O |\n",
    "| competant | O |\n",
    "| programming | B-Skill |\n",
    "| in | I-Skill |\n",
    "| Python | I-Skill |\n",
    "| , | O |\n",
    "| mentoring | B-Skill |\n",
    "| junior | I-Skill |\n",
    "| collegues | I-Skill |\n",
    "| and | O |\n",
    "| presenting | B-Skill |\n",
    "| to | I-Skill |\n",
    "| leadership | I-Skill |"
   ]
  },
  {
   "cell_type": "markdown",
   "id": "be563343-5c86-419a-be7b-d7a9b570f005",
   "metadata": {},
   "source": [
    "Words are labelled 'O' if they are not part of a skill. The first word in a skill sequence is labelled `B-Skill` (b for beginning) and all proceeding words labelled `I-Skill`. "
   ]
  },
  {
   "cell_type": "markdown",
   "id": "063a6223-f400-4c2a-85ee-13584ce9e79e",
   "metadata": {},
   "source": [
    "When shopping for model architectures that might yield the best performance when fine-tuned on SkillSpan, we could look to roughly comparable datasets such as CoNLL 2003 and recent performance benchmarks. Models building on the BERT/RoBERTa architectures [seem to do particularly well](https://paperswithcode.com/sota/token-classification-on-conll2003) at entity recognition. This is because they are designed for bidirectional context understanding; understanding a word or phrase in the context of all the other words and phrases that surround it in a sentence. This is different to models like GPT-3/GPT-4 which are designed for unidirectional context understanding (left-to-right) which makes them excellent at generating human-like text but less effective at entity extraction out-the-box. We will attempt to benchmark SkillSpan on BERT and RoBERTa to see how feasible it is to fine-tune excellent skill extractors on consumer hardware with open data. "
   ]
  },
  {
   "cell_type": "markdown",
   "id": "068627d3-0b9d-49d5-9bbf-05c3352b8388",
   "metadata": {},
   "source": [
    "### Training and Testing"
   ]
  },
  {
   "cell_type": "markdown",
   "id": "b42cc8e5-fadf-465d-8858-32d46d7052a0",
   "metadata": {},
   "source": [
    "We attempt to fine-tune BERT and RoBERTa on part of the SkillSpan dataset and compare performance with ['JobBert'](https://huggingface.co/jjzha/jobbert_skill_extraction), a model released by the SkillSpan researchers pre-trained on 3.2M unlabeled job profile sentences. We fine-tuned our models on a V100 GPU (P3.2xlarge AWS EC2 instance) using a basic [NBDev workflow](https://github.com/Autonomy-Data-Unit/llm-skills-extraction). To access performance of the models, we [evaluate them on the two open SkillSpan test sets](https://github.com/Autonomy-Data-Unit/llm-skills-extraction/blob/main/nbs/run/run_04_evaluate.ipynb) known as HOUSE and TECH (comprised of job profiles from StackOverflow):"
   ]
  },
  {
   "cell_type": "markdown",
   "id": "5a7f600d-111e-45e8-ae26-d44641d21f19",
   "metadata": {},
   "source": [
    "| Model/Dataset | Precision (HOUSE) | Recall (HOUSE) | F1 (HOUSE) | Accuracy (HOUSE) | Precision (TECH) | Recall (TECH) | F1 (TECH) | Accuracy (TECH) |\n",
    "|---------------|-------------------|----------------|------------|------------------|------------------|---------------|-----------|-----------------|\n",
    "| BERT          | 46.26              | 45.90           | 46.08       | 93.50             | 48.41             | 53.17         | 50.68      | 94.91            |\n",
    "| RoBERTa       | 55.94              | 49.05          | 52.27       | 93.84             | 57.98             | 54.04          | 55.94      | 95.24            |\n",
    "| JobBERT        | 52.22              | 53.79           | 52.99       | 94.45             | 50.22             | 50.33          | 50.27      | 94.96            |"
   ]
  },
  {
   "cell_type": "markdown",
   "id": "35c3f112-be21-4697-a57c-3178fca09b76",
   "metadata": {},
   "source": [
    "We notice a clear difference in performance between the subsets with RoBERTa outperforming on TECH and RoBERTa/JobBert performing better than BERT on HOUSE. RoBERTa achieves higher precision on both sets; getting a greater proportion of it's labels correct. RoBERTa's optimizations relative to JobBERT/BERT include training on a larger corpus of text and the use of dynamic masking which may have contributed to tangible improvements over the original BERT architectures. Differences in performance between JobBERT and BERT may be due to JobBERT being trained on a more relevant dataset of job profiles and fine-tuned on the full SkillSpan dataset compared to the 2 open-source subsets of SkillSpan our models were fine-tuned on."
   ]
  },
  {
   "cell_type": "markdown",
   "id": "9b16f1c8-d860-4bcf-98f0-9f9cef2c9c1e",
   "metadata": {},
   "source": [
    "To get a sense of how these models perform on job ads we might scrape from the internet in the future, we can test them on an example. Lets check out an [ad for an SF-based role in the emerging economically lucractive discipline of so-called prompt engineering](https://web.archive.org/web/20230806033102/https://jobs.lever.co/Anthropic/e3cde481-d446-460f-b576-93cab67bd1ed):"
   ]
  },
  {
   "cell_type": "markdown",
   "id": "1bc94df2-22ec-4624-84b5-5be936dcdf8d",
   "metadata": {},
   "source": [
    "![](assets/anthropic.png)"
   ]
  },
  {
   "cell_type": "markdown",
   "id": "abc0d26f-22b3-4ae6-b3b8-1d4c7c395834",
   "metadata": {},
   "source": [
    "We can easily load our trained models from the Hugging Face Hub and test them on the full job profile by feeding each sentence to the model individually (similar to how the model was trained). We then print all the sentences where words were labelled. RoBERTa generated the following labels: "
   ]
  },
  {
   "cell_type": "code",
   "execution_count": null,
   "id": "d0e06252-3194-4672-b9d7-4106cffebb30",
   "metadata": {},
   "outputs": [],
   "source": [
    "#| echo: false\n",
    "def separate_text(file_path:str # path to .txt file \n",
    "                 ):\n",
    "    \"read text file and seperate text into a list of sentences\"\n",
    "    with open(file_path, 'r') as file:\n",
    "        text = file.read()\n",
    "    # Separate sentences using regular expression\n",
    "    sentences = re.split(r'(?<!\\w\\.\\w.)(?<![A-Z][a-z]\\.)(?<=\\.|\\?)\\s', text)\n",
    "    # Separate line breaks and bullet points\n",
    "    lines_and_bullets = re.split(r'(\\n- )', text)\n",
    "    result_list = []\n",
    "    for item in sentences:\n",
    "        if item.strip():\n",
    "            result_list.append(item.strip())\n",
    "    return result_list\n",
    "\n",
    "def extract_spans(tokens:list # list of token dictionaries returned from transformers pipeline\n",
    "                 ):\n",
    "    \"Converts tokens to a list of spans, filtering for malformed spans\"\n",
    "    spans = []\n",
    "    for token in tokens:\n",
    "        if spans:\n",
    "            if token['start'] == spans[-1]['end']+1 or token['start'] == spans[-1]['end']:\n",
    "                spans[-1]['end'] = token['end']\n",
    "            else:\n",
    "                # ensure span begins with correct label otherwise malformed:\n",
    "                if token['entity'] == 'B-Skill' or token['entity'] == 'B':\n",
    "                    spans.append({'start': token['start'], 'end':token['end']})\n",
    "        else:\n",
    "            if token['entity'] == 'B-Skill' or token['entity'] == 'B':\n",
    "                spans = [{'start': token['start'], 'end':token['end']}]\n",
    "    return spans\n",
    "\n",
    "def get_labels(spans:list, # list of span labels in sentence\n",
    "               sentence:str # sentence string \n",
    "              ):\n",
    "    \"Return list of substrings from spans\"\n",
    "    labels = []\n",
    "    for span in spans:\n",
    "        labels.append(sentence[span['start']:span['end']])\n",
    "    return labels\n",
    "\n",
    "def run_inference_hf(sentences:list, # list of sentences  \n",
    "                     token_classifier # transformers pipelines\n",
    "                    ):\n",
    "    \"Run inference on a list of sentences with a transformers pipeline\"\n",
    "    results = []\n",
    "    for sentence in sentences:\n",
    "        tokens = token_classifier(sentence)\n",
    "        labels = None\n",
    "        if tokens:\n",
    "            spans = extract_spans(tokens)\n",
    "            labels = get_labels(spans, sentence)\n",
    "        results.append({\"sentence\": sentence, \"labels\": labels})\n",
    "    return results\n",
    "\n",
    "def highlight_sections(text:str,\n",
    "                       sections # sections in sentences to highlight\n",
    "                      ):\n",
    "    sections.sort(key=lambda x: x[0])\n",
    "    highlighted_text = \"\"\n",
    "    prev_end = 0\n",
    "    for start, end in sections:\n",
    "        highlighted_text += (\n",
    "            f\"{text[prev_end:start]}\"                        # Text before the highlighted section\n",
    "            f\"<span style='background-color: #C99E39;'>{text[start:end]}</span>\"  # Highlighted section\n",
    "        )\n",
    "        prev_end = end\n",
    "    highlighted_text += f\"{text[prev_end:]}\" + \"<br>\"  # Text after the last highlighted section\n",
    "    return highlighted_text\n",
    "\n",
    "def display_inference_results(results:list # output from `run_inference_hf`\n",
    "                  ):\n",
    "    \"Print labelled sentences highlighting labelled sections\"\n",
    "    for item in results:\n",
    "        sentence = item['sentence']\n",
    "        sections_to_highlight = []\n",
    "        if item['labels']:\n",
    "            for label in item['labels']:\n",
    "                start = sentence.find(label)\n",
    "                end = start + len(label)\n",
    "                sections_to_highlight.append((start, end))\n",
    "            highlighted_sentence = '<div style = \"background-color: #333333; color: #FFFFFF;\">' + highlight_sections(sentence, sections_to_highlight) + '</div>'\n",
    "            display(HTML(highlighted_sentence))\n",
    "\n",
    "def common_elements(list1, list2, list3):\n",
    "    set1 = set(list1)\n",
    "    set2 = set(list2)\n",
    "    set3 = set(list3)\n",
    "    common_elements = set1.intersection(set2, set3)\n",
    "    return common_elements"
   ]
  },
  {
   "cell_type": "code",
   "execution_count": null,
   "id": "e042c5e7-2b2c-485b-804a-d4d1ac4a506c",
   "metadata": {},
   "outputs": [],
   "source": [
    "#| echo: false\n",
    "file_path = '../assets/engineer.txt'\n",
    "sentences = separate_text(file_path)"
   ]
  },
  {
   "cell_type": "code",
   "execution_count": null,
   "id": "f7755534-e4c0-43a5-97eb-ca77b07a5460",
   "metadata": {},
   "outputs": [],
   "source": [
    "#| echo: true\n",
    "from transformers import pipeline\n",
    "\n",
    "token_classifier = pipeline(\n",
    "    \"token-classification\", model=\"autosyrup/roberta\", tokenizer=\"autosyrup/roberta\",\n",
    "    ignore_labels=['O']\n",
    ")"
   ]
  },
  {
   "cell_type": "code",
   "execution_count": null,
   "id": "e1fdb50c-5b4c-47cb-a4df-a21f4347f0ff",
   "metadata": {},
   "outputs": [
    {
     "data": {
      "text/html": [
       "<div style = \"background-color: #333333; color: #FFFFFF;\">You will figure out the best methods of prompting our AI to accomplish a wide range of tasks, then document these methods to build up a library of tools and a set of tutorials that allows others to learn prompt engineering, as well as <span style='background-color: #C99E39;'>work with high value partners</span> to directly solve their challenges.<br></div>"
      ],
      "text/plain": [
       "<IPython.core.display.HTML object>"
      ]
     },
     "metadata": {},
     "output_type": "display_data"
    },
    {
     "data": {
      "text/html": [
       "<div style = \"background-color: #333333; color: #FFFFFF;\">Responsibilities: <span style='background-color: #C99E39;'>Discover, test, and document best practices</span> for a wide range of tasks relevant to our customers.<br></div>"
      ],
      "text/plain": [
       "<IPython.core.display.HTML object>"
      ]
     },
     "metadata": {},
     "output_type": "display_data"
    },
    {
     "data": {
      "text/html": [
       "<div style = \"background-color: #333333; color: #FFFFFF;\"><span style='background-color: #C99E39;'>Build up a library of high quality prompts or prompt chains</span> to accomplish a variety of tasks, with an easy guide to help users search for the one that meets their needs.<br></div>"
      ],
      "text/plain": [
       "<IPython.core.display.HTML object>"
      ]
     },
     "metadata": {},
     "output_type": "display_data"
    },
    {
     "data": {
      "text/html": [
       "<div style = \"background-color: #333333; color: #FFFFFF;\"><span style='background-color: #C99E39;'>Build a set of tutorials and interactive tools</span> that teach the art of prompt engineering to our customers.<br></div>"
      ],
      "text/plain": [
       "<IPython.core.display.HTML object>"
      ]
     },
     "metadata": {},
     "output_type": "display_data"
    },
    {
     "data": {
      "text/html": [
       "<div style = \"background-color: #333333; color: #FFFFFF;\"><span style='background-color: #C99E39;'>Work with large enterprise customers</span> on their prompting strategies.<br></div>"
      ],
      "text/plain": [
       "<IPython.core.display.HTML object>"
      ]
     },
     "metadata": {},
     "output_type": "display_data"
    },
    {
     "data": {
      "text/html": [
       "<div style = \"background-color: #333333; color: #FFFFFF;\">Are an excellent <span style='background-color: #C99E39;'>communicator</span>, and love <span style='background-color: #C99E39;'>teaching technical concepts</span> and <span style='background-color: #C99E39;'>creating high quality documentation</span> that helps out others.<br></div>"
      ],
      "text/plain": [
       "<IPython.core.display.HTML object>"
      ]
     },
     "metadata": {},
     "output_type": "display_data"
    },
    {
     "data": {
      "text/html": [
       "<div style = \"background-color: #333333; color: #FFFFFF;\">Are excited to <span style='background-color: #C99E39;'>talk to motivated customers</span> and help solve their problems.<br></div>"
      ],
      "text/plain": [
       "<IPython.core.display.HTML object>"
      ]
     },
     "metadata": {},
     "output_type": "display_data"
    },
    {
     "data": {
      "text/html": [
       "<div style = \"background-color: #333333; color: #FFFFFF;\">Have a <span style='background-color: #C99E39;'>creative hacker spirit</span> and love <span style='background-color: #C99E39;'>solving puzzles</span>.<br></div>"
      ],
      "text/plain": [
       "<IPython.core.display.HTML object>"
      ]
     },
     "metadata": {},
     "output_type": "display_data"
    },
    {
     "data": {
      "text/html": [
       "<div style = \"background-color: #333333; color: #FFFFFF;\">Have at least basic <span style='background-color: #C99E39;'>programming</span> skills and would be comfortable <span style='background-color: #C99E39;'>writing small Python programs</span>.<br></div>"
      ],
      "text/plain": [
       "<IPython.core.display.HTML object>"
      ]
     },
     "metadata": {},
     "output_type": "display_data"
    },
    {
     "data": {
      "text/html": [
       "<div style = \"background-color: #333333; color: #FFFFFF;\">Have an <span style='background-color: #C99E39;'>organizational mindset</span> and enjoy <span style='background-color: #C99E39;'>building teams from the ground up</span>.<br></div>"
      ],
      "text/plain": [
       "<IPython.core.display.HTML object>"
      ]
     },
     "metadata": {},
     "output_type": "display_data"
    },
    {
     "data": {
      "text/html": [
       "<div style = \"background-color: #333333; color: #FFFFFF;\">You <span style='background-color: #C99E39;'>think holistically</span> and can <span style='background-color: #C99E39;'>proactively identify the needs of an organization</span>.<br></div>"
      ],
      "text/plain": [
       "<IPython.core.display.HTML object>"
      ]
     },
     "metadata": {},
     "output_type": "display_data"
    },
    {
     "data": {
      "text/html": [
       "<div style = \"background-color: #333333; color: #FFFFFF;\"><span style='background-color: #C99E39;'>Make ambiguous problems clear</span> and <span style='background-color: #C99E39;'>identify core principles</span> that can translate across scenarios.<br></div>"
      ],
      "text/plain": [
       "<IPython.core.display.HTML object>"
      ]
     },
     "metadata": {},
     "output_type": "display_data"
    },
    {
     "data": {
      "text/html": [
       "<div style = \"background-color: #333333; color: #FFFFFF;\">You <span style='background-color: #C99E39;'>anticipate unforeseen risks</span>, <span style='background-color: #C99E39;'>model out scenarios</span>, and <span style='background-color: #C99E39;'>provide actionable guidance</span> to internal stakeholders.<br></div>"
      ],
      "text/plain": [
       "<IPython.core.display.HTML object>"
      ]
     },
     "metadata": {},
     "output_type": "display_data"
    },
    {
     "data": {
      "text/html": [
       "<div style = \"background-color: #333333; color: #FFFFFF;\"><span style='background-color: #C99E39;'>Think creatively about the risks and benefits of new</span> technologies, and think beyond past checklists and playbooks.<br></div>"
      ],
      "text/plain": [
       "<IPython.core.display.HTML object>"
      ]
     },
     "metadata": {},
     "output_type": "display_data"
    },
    {
     "data": {
      "text/html": [
       "<div style = \"background-color: #333333; color: #FFFFFF;\">You stay up-to-date and informed by <span style='background-color: #C99E39;'>taking an active interest in emerging research and industry trends</span>.<br></div>"
      ],
      "text/plain": [
       "<IPython.core.display.HTML object>"
      ]
     },
     "metadata": {},
     "output_type": "display_data"
    }
   ],
   "source": [
    "#| echo: false\n",
    "roberta_results = run_inference_hf(sentences, token_classifier)\n",
    "display_inference_results(roberta_results)"
   ]
  },
  {
   "cell_type": "markdown",
   "id": "93eb78b5-b0ec-4021-9440-ff04c918ceeb",
   "metadata": {},
   "source": [
    "We can see RoBERTa has identified 24 skills in 15/59 sentences that make up the job ad. The results seem sensible and cover almost all of the skills we might identify in the [original ad](https://web.archive.org/web/20230806033102/https://jobs.lever.co/Anthropic/e3cde481-d446-460f-b576-93cab67bd1ed). We can test the similarly capable JobBERT model to see how it compares with RoBERTa:"
   ]
  },
  {
   "cell_type": "code",
   "execution_count": null,
   "id": "bf996541-7c1b-4729-bcdd-9882d7c05212",
   "metadata": {},
   "outputs": [],
   "source": [
    "#| echo: false\n",
    "import logging\n",
    "logging.getLogger(\"transformers\").setLevel(logging.ERROR)"
   ]
  },
  {
   "cell_type": "code",
   "execution_count": null,
   "id": "84d7f18f-d06d-4dfb-b6a0-d63f52e9cedf",
   "metadata": {},
   "outputs": [],
   "source": [
    "#| echo: true\n",
    "token_classifier = pipeline(\n",
    "    \"token-classification\", model=\"jjzha/jobbert_skill_extraction\", tokenizer=\"jjzha/jobbert_skill_extraction\",\n",
    "    ignore_labels=['O']\n",
    ")"
   ]
  },
  {
   "cell_type": "code",
   "execution_count": null,
   "id": "a2eb1880-dbd4-4a0f-aeaf-cc5b8716a4b5",
   "metadata": {},
   "outputs": [
    {
     "data": {
      "text/html": [
       "<div style = \"background-color: #333333; color: #FFFFFF;\">You will <span style='background-color: #C99E39;'>figure out the best methods of prompting our AI</span> to <span style='background-color: #C99E39;'>accomplish a wide range of tasks</span>, then document these methods to <span style='background-color: #C99E39;'>build</span> up a library of tools and a set of tutorials that allows others to learn prompt engineering, as well as <span style='background-color: #C99E39;'>work with high value partners</span> to directly solve their challenges.<br></div>"
      ],
      "text/plain": [
       "<IPython.core.display.HTML object>"
      ]
     },
     "metadata": {},
     "output_type": "display_data"
    },
    {
     "data": {
      "text/html": [
       "<div style = \"background-color: #333333; color: #FFFFFF;\">Responsibilities: <span style='background-color: #C99E39;'>Discover, test, and document best practices for a wide range of tasks</span> relevant to our customers.<br></div>"
      ],
      "text/plain": [
       "<IPython.core.display.HTML object>"
      ]
     },
     "metadata": {},
     "output_type": "display_data"
    },
    {
     "data": {
      "text/html": [
       "<div style = \"background-color: #333333; color: #FFFFFF;\"><span style='background-color: #C99E39;'>Build up a library of high quality prompts or prompt chains</span> to <span style='background-color: #C99E39;'>accomplish a variety of tasks</span>, with an easy guide to help users search for the one that meets their needs.<br></div>"
      ],
      "text/plain": [
       "<IPython.core.display.HTML object>"
      ]
     },
     "metadata": {},
     "output_type": "display_data"
    },
    {
     "data": {
      "text/html": [
       "<div style = \"background-color: #333333; color: #FFFFFF;\"><span style='background-color: #C99E39;'>Build a set of tutorials and interactive tools</span> that teach the art of prompt engineering to our customers.<br></div>"
      ],
      "text/plain": [
       "<IPython.core.display.HTML object>"
      ]
     },
     "metadata": {},
     "output_type": "display_data"
    },
    {
     "data": {
      "text/html": [
       "<div style = \"background-color: #333333; color: #FFFFFF;\"><span style='background-color: #C99E39;'>Work with large enterprise customers</span> on their prompting strategies.<br></div>"
      ],
      "text/plain": [
       "<IPython.core.display.HTML object>"
      ]
     },
     "metadata": {},
     "output_type": "display_data"
    },
    {
     "data": {
      "text/html": [
       "<div style = \"background-color: #333333; color: #FFFFFF;\">Are an excellent <span style='background-color: #C99E39;'>communicator</span>, and love <span style='background-color: #C99E39;'>teaching technical concepts</span> and <span style='background-color: #C99E39;'>creating high quality documentation</span> that <span style='background-color: #C99E39;'>helps out others</span>.<br></div>"
      ],
      "text/plain": [
       "<IPython.core.display.HTML object>"
      ]
     },
     "metadata": {},
     "output_type": "display_data"
    },
    {
     "data": {
      "text/html": [
       "<div style = \"background-color: #333333; color: #FFFFFF;\">Are excited to <span style='background-color: #C99E39;'>talk to motivated customers</span> and help solve their problems.<br></div>"
      ],
      "text/plain": [
       "<IPython.core.display.HTML object>"
      ]
     },
     "metadata": {},
     "output_type": "display_data"
    },
    {
     "data": {
      "text/html": [
       "<div style = \"background-color: #333333; color: #FFFFFF;\">Have a <span style='background-color: #C99E39;'>creative hacker spirit</span> and love <span style='background-color: #C99E39;'>solving puzzles</span>.<br></div>"
      ],
      "text/plain": [
       "<IPython.core.display.HTML object>"
      ]
     },
     "metadata": {},
     "output_type": "display_data"
    },
    {
     "data": {
      "text/html": [
       "<div style = \"background-color: #333333; color: #FFFFFF;\">Have at least basic <span style='background-color: #C99E39;'>programming</span> skills and would be comfortable <span style='background-color: #C99E39;'>writing small Python programs</span>.<br></div>"
      ],
      "text/plain": [
       "<IPython.core.display.HTML object>"
      ]
     },
     "metadata": {},
     "output_type": "display_data"
    },
    {
     "data": {
      "text/html": [
       "<div style = \"background-color: #333333; color: #FFFFFF;\">Have an <span style='background-color: #C99E39;'>organizational mindset</span> and enjoy <span style='background-color: #C99E39;'>building teams from the ground up</span>.<br></div>"
      ],
      "text/plain": [
       "<IPython.core.display.HTML object>"
      ]
     },
     "metadata": {},
     "output_type": "display_data"
    },
    {
     "data": {
      "text/html": [
       "<div style = \"background-color: #333333; color: #FFFFFF;\">You <span style='background-color: #C99E39;'>think holistically</span> and can <span style='background-color: #C99E39;'>proactively identify the needs of an organization</span>.<br></div>"
      ],
      "text/plain": [
       "<IPython.core.display.HTML object>"
      ]
     },
     "metadata": {},
     "output_type": "display_data"
    },
    {
     "data": {
      "text/html": [
       "<div style = \"background-color: #333333; color: #FFFFFF;\"><span style='background-color: #C99E39;'>Make ambiguous problems clear</span> and <span style='background-color: #C99E39;'>identify core principles</span> that can translate across scenarios.<br></div>"
      ],
      "text/plain": [
       "<IPython.core.display.HTML object>"
      ]
     },
     "metadata": {},
     "output_type": "display_data"
    },
    {
     "data": {
      "text/html": [
       "<div style = \"background-color: #333333; color: #FFFFFF;\">You <span style='background-color: #C99E39;'>anticipate unforeseen risks</span>, <span style='background-color: #C99E39;'>model out scenarios</span>, and <span style='background-color: #C99E39;'>provide actionable guidance</span> to internal stakeholders.<br></div>"
      ],
      "text/plain": [
       "<IPython.core.display.HTML object>"
      ]
     },
     "metadata": {},
     "output_type": "display_data"
    },
    {
     "data": {
      "text/html": [
       "<div style = \"background-color: #333333; color: #FFFFFF;\"><span style='background-color: #C99E39;'>Think creatively about the risks and benefits of new technologies</span>, and think beyond past checklists and playbooks.<br></div>"
      ],
      "text/plain": [
       "<IPython.core.display.HTML object>"
      ]
     },
     "metadata": {},
     "output_type": "display_data"
    },
    {
     "data": {
      "text/html": [
       "<div style = \"background-color: #333333; color: #FFFFFF;\">As such, we greatly value <span style='background-color: #C99E39;'>communication</span> skills.<br></div>"
      ],
      "text/plain": [
       "<IPython.core.display.HTML object>"
      ]
     },
     "metadata": {},
     "output_type": "display_data"
    }
   ],
   "source": [
    "#| echo: false\n",
    "jobbert_results = run_inference_hf(sentences, token_classifier)\n",
    "display_inference_results(jobbert_results)"
   ]
  },
  {
   "cell_type": "markdown",
   "id": "5a03be25-bd69-46b8-bf72-65b0e66d4394",
   "metadata": {},
   "source": [
    "Both models label the same 14 sentences out of the 59 that make up the job profile, only differing on several labels. If we include BERT's inference results, there are at least 26 common spans labelled by 2 of the 3 models: "
   ]
  },
  {
   "cell_type": "code",
   "execution_count": null,
   "id": "963707f1-7a95-46fe-8d22-8eb540c91840",
   "metadata": {},
   "outputs": [
    {
     "data": {
      "text/plain": [
       "{'Build a set of tutorials and interactive tools',\n",
       " 'Build up a library of high quality prompts or prompt chains',\n",
       " 'Discover, test, and document best practices',\n",
       " 'Make ambiguous problems clear',\n",
       " 'Think creatively about the risks and benefits of new technologies',\n",
       " 'Work with large enterprise customers',\n",
       " 'accomplish a variety of tasks',\n",
       " 'anticipate unforeseen risks',\n",
       " 'building teams from the ground up',\n",
       " 'communicator',\n",
       " 'creating high quality documentation',\n",
       " 'creative hacker spirit',\n",
       " 'helps out others',\n",
       " 'identify core principles',\n",
       " 'model out scenarios',\n",
       " 'organizational mindset',\n",
       " 'proactively identify the needs of an organization',\n",
       " 'programming',\n",
       " 'provide actionable guidance',\n",
       " 'solving puzzles',\n",
       " 'taking an active interest in emerging research and industry trends',\n",
       " 'talk to motivated customers',\n",
       " 'teaching technical concepts',\n",
       " 'think holistically',\n",
       " 'work with high value partners',\n",
       " 'writing small Python programs'}"
      ]
     },
     "execution_count": null,
     "metadata": {},
     "output_type": "execute_result"
    }
   ],
   "source": [
    "#| echo: false\n",
    "token_classifier = pipeline(\n",
    "    \"token-classification\", model=\"autosyrup/bert\", tokenizer=\"autosyrup/bert\",\n",
    "    ignore_labels=['O']\n",
    ")\n",
    "\n",
    "# get all results \n",
    "bert_results = run_inference_hf(sentences, token_classifier)\n",
    "\n",
    "jobbert_results_list = [item for sublist in [label['labels'] for label in jobbert_results if label['labels'] != \"None\" and label['labels'] != None] for item in sublist]\n",
    "bert_results_list = [item for sublist in [label['labels'] for label in bert_results if label['labels'] != \"None\" and label['labels'] != None] for item in sublist]\n",
    "roberta_results_list = [item for sublist in [label['labels'] for label in roberta_results if label['labels'] != \"None\" and label['labels'] != None] for item in sublist]\n",
    "\n",
    "def common_elements(list1, list2, list3):\n",
    "    set1, set2, set3 = set(list1), set(list2), set(list3)\n",
    "    common_elements = set1 & set2 | set1 & set3 | set2 & set3\n",
    "    return common_elements\n",
    "\n",
    "common_elements = common_elements(roberta_results_list, bert_results_list, jobbert_results_list)\n",
    "common_elements"
   ]
  },
  {
   "cell_type": "markdown",
   "id": "c6124813-fee9-4751-be72-79a461fc10c2",
   "metadata": {},
   "source": [
    "This list of commonly labelled spans suggests it can be advantageous aggregating the inference results from multiple models in a pipeline to filter out some of the lower quality labels (in this case labels like `build` or the unfinished `Think creatively about the risks and benefits of new`).\n",
    "\n",
    "Whilst auto-encoding transformer models like BERT are theoretically best suited for skills extraction, lets now explore how we can fine-tune and prompt auto-regressive models like GPT-3/GPT-4 into labelling skills."
   ]
  },
  {
   "cell_type": "markdown",
   "id": "fe2d1e68-be93-44b5-bbe3-d7a1437a08a4",
   "metadata": {},
   "source": [
    "### 2. Fine-tuning GPT-3"
   ]
  },
  {
   "cell_type": "markdown",
   "id": "ff59e882-c27e-46d9-b8ae-148859321736",
   "metadata": {},
   "source": [
    "At present their are two approaches to guiding OpenAI's LLMs towards a user-defined task: prompt design and fine-tuning. Prompt design is more accessible; it doesn't neccesarily require a dataset, data preprocessing or interaction via API. Fine-tuning however can lead to potentially higher quality results and allows us to save costs on inference by removing the need to repeatedly waste tokens explaining the task or desired output format to a model via elaborate or sprawling prompts. Fine-tuning is also pretty straightforward and not very expensive as we will demonstrate.\n",
    "\n",
    "Compared to the fine-tuning we previously conducted with BERT, fine-tuning GPT-3 is easier. We don't need to specify the task, select the best model architecture (other than which version of GPT-3 to fine-tune: `davinci`, `ada`, `babbage` or `curie`) or install anything (other than the `openai` python package). We just need to provide a dataset and optional hyper-parameters via the OpenAI API. Through few shot learning LLMs can infer the task we are training them for, which in the case of entity extraction is similar to language transformation tasks."
   ]
  },
  {
   "cell_type": "markdown",
   "id": "06fb7717-a7f9-4b61-99f5-8c33e39e5272",
   "metadata": {},
   "source": [
    "To prepare our dataset for fine-tuning OpenAI recommends we build a `.jsonl` file with each line containing a sentence from SkillSpan with the sentence as the value for 'prompt' and the labels (seperated with line break characters `\\n`) as the values for 'completion' like so:"
   ]
  },
  {
   "cell_type": "markdown",
   "id": "a0d818b6-93ff-46a1-a718-a7cf403b942b",
   "metadata": {},
   "source": [
    "```\n",
    "{\n",
    "    \"prompt\": \"You will be doing this by finding the right partners and building a program to acquire new customers for these markets Develop global partnerships with leading European and South African wineries\\n\\n###\\n\\n\",\n",
    "    \"completion\": \" finding the right partners\\nbuilding a program\\naquire new partners\\nDevelop global partnerships END\"\n",
    "}\n",
    "```"
   ]
  },
  {
   "cell_type": "markdown",
   "id": "d1e2e4f6-6d4c-4af0-a2a1-396345fe010e",
   "metadata": {},
   "source": [
    "We adapt SkillSpan to `.jsonl` and train Davinci (the most pricey model) on the dataset. Fine-tuning with SkillSpan cost $20 and took just less than 1 hour:"
   ]
  },
  {
   "cell_type": "markdown",
   "id": "674573e4-f2b6-4375-839b-b5e220edbb9b",
   "metadata": {},
   "source": [
    "![](assets/finetune.png)"
   ]
  },
  {
   "cell_type": "markdown",
   "id": "a9cfadab-2d2e-4ed6-b636-1e1f94f73b55",
   "metadata": {},
   "source": [
    "Once the model is trained, we could easily test on an example sentence, such as `Ability to debug issues in a full stack environment`, making sure to include some of the formatting quirks OpenAI recommended we included in the training data (like starting prompts with whitespace and ending with `\\n\\n####\\n\\n`):"
   ]
  },
  {
   "cell_type": "code",
   "execution_count": null,
   "id": "065b9f8c-5fc7-4afe-bffd-f7746fc76807",
   "metadata": {},
   "outputs": [
    {
     "data": {
      "text/plain": [
       "<OpenAIObject text_completion id=cmpl-7m5StSLE9WRXTxwUCYllioHchjREs> JSON: {\n",
       "  \"id\": \"cmpl-7m5StSLE9WRXTxwUCYllioHchjREs\",\n",
       "  \"object\": \"text_completion\",\n",
       "  \"created\": 1691695107,\n",
       "  \"model\": \"davinci:ft-autonomy-2023-08-04-19-06-39\",\n",
       "  \"choices\": [\n",
       "    {\n",
       "      \"text\": \" debug issues in a full stack environment\",\n",
       "      \"index\": 0,\n",
       "      \"logprobs\": null,\n",
       "      \"finish_reason\": \"stop\"\n",
       "    }\n",
       "  ],\n",
       "  \"usage\": {\n",
       "    \"prompt_tokens\": 13,\n",
       "    \"completion_tokens\": 7,\n",
       "    \"total_tokens\": 20\n",
       "  }\n",
       "}"
      ]
     },
     "execution_count": null,
     "metadata": {},
     "output_type": "execute_result"
    }
   ],
   "source": [
    "#| echo: true\n",
    "openai.Completion.create(\n",
    "    model=\"davinci:ft-autonomy-2023-08-04-19-06-39\",\n",
    "    prompt=\" Ability to debug issues in a full stack environment\\n\\n###\\n\\n\",\n",
    "    stop=[\" END\"])"
   ]
  },
  {
   "cell_type": "markdown",
   "id": "8b9e5da2-8239-4cf2-8882-245e60e57d0a",
   "metadata": {},
   "source": [
    "In our testing, fine-tuned GPT-3 correctly labelled `debug issues in a full stack environment`."
   ]
  },
  {
   "cell_type": "code",
   "execution_count": null,
   "id": "cda68420-6c1d-488e-8b18-2755fe808b53",
   "metadata": {},
   "outputs": [],
   "source": [
    "#| echo: false\n",
    "## In our testing, fine-tuned GPT-3 correctly labelled `debug issues in a full stack environment`. Hopefully your result matches we got:"
   ]
  },
  {
   "cell_type": "code",
   "execution_count": null,
   "id": "5a36e7c6-9039-4260-8883-438342059231",
   "metadata": {},
   "outputs": [],
   "source": [
    "#| echo: false\n",
    "```\n",
    "{\n",
    "  \"id\": \"cmpl-7k8XvxuJQscy44XBwxTVn5th2lMTL\",\n",
    "  \"object\": \"text_completion\",\n",
    "  \"created\": 1691230295,\n",
    "  \"model\": \"davinci:ft-autonomy-2023-08-04-19-06-39\",\n",
    "  \"choices\": [\n",
    "    {\n",
    "      \"text\": \" debug issues in a full stack environment\",\n",
    "      \"index\": 0,\n",
    "      \"logprobs\": null,\n",
    "      \"finish_reason\": \"stop\"\n",
    "    }\n",
    "  ],\n",
    "  \"usage\": {\n",
    "    \"prompt_tokens\": 13,\n",
    "    \"completion_tokens\": 7,\n",
    "    \"total_tokens\": 20\n",
    "  }\n",
    "}\n",
    "```"
   ]
  },
  {
   "cell_type": "markdown",
   "id": "671b82ab-e5ba-4e91-9b7e-28833c3bd548",
   "metadata": {},
   "source": [
    "Despite the model labelling this result correctly, it is still vulnerable to returning text that doesn't match any substrings within the input sentence. GPT-3 is not deterministic (like BERT) so we could in theory get a different result each time. The fine-tuned model can return results containing capital letters, punctuation and even words that didn't occur in the input sentence- in other words partially hallucinated skills. We notice this can happen more frequently when setting the optional temperature parameter higher (values between 0.0 and 2.0), which corresponds with the model attempting to be more 'creative' in its output at the expense of being deterministic and focussed. "
   ]
  },
  {
   "cell_type": "markdown",
   "id": "f75628a9-e559-4f95-a3d6-d29837654e4f",
   "metadata": {},
   "source": [
    "We apply post-processing steps on the output text, converting it to a list of labels and then attempting to find the index range in the original sentence where the label occurs. For instances where an exact match cannot be found we use an implementation of the Ratcliff/Obershelp algorithm to perform fuzzy matching. By matching GPT-3's labels with the original sentences we can actually score the Davinci model using `seqeval`. We report the following metrics: "
   ]
  },
  {
   "cell_type": "markdown",
   "id": "19d456af-486a-499c-8582-2745d3d71c59",
   "metadata": {},
   "source": [
    "| Model/Dataset | Precision (HOUSE) | Recall (HOUSE) | F1 (HOUSE) | Precision (TECH) | Recall (TECH) | F1 (TECH) |\n",
    "|---------------|-------------------|----------------|------------|------------------|------------------|---------------\n",
    "| Davinci (GPT-3)          | 46              | 34           | 39       | 48             | 40             | 44         |\n"
   ]
  },
  {
   "cell_type": "markdown",
   "id": "1fbcbfef-df11-4aab-b49e-dad56cd1ac56",
   "metadata": {},
   "source": [
    "It is surprising and impressive to see GPT-3 is able to perform this task with any competancy, achieving similar precision to BERT, given that the model is inferring the task entirely from the dataset and is approaching token classification as sequence prediction."
   ]
  },
  {
   "cell_type": "code",
   "execution_count": null,
   "id": "f99835ee-f8f2-48b7-ab1b-fbc60852847a",
   "metadata": {},
   "outputs": [],
   "source": [
    "#| echo: false\n",
    "import skills_extraction.openai.finetune as finetune\n",
    "\n",
    "def annotate_skills(sentence, annotation_guidelines):\n",
    "    chat_history = [{\"role\": \"system\", \"content\": \"You are a professional data annotator tasked with labelling skills within sentences taken from online job advertisements.\"},\n",
    "                    {\"role\": \"user\", \"content\": f\"Does the following sentence randomly taken from a job advertisement contain any mention of skills required for the job? Answer only 'yes' or 'no' without providing any justification: sentence='{sentence}'\"}]\n",
    "    \n",
    "    sentence_check_response = openai.ChatCompletion.create(\n",
    "        model=\"gpt-4\",\n",
    "        messages=chat_history\n",
    "    )\n",
    "    if 'yes' in sentence_check_response[\"choices\"][0]['message'][\"content\"].lower() and 'not' not in 'yes' in sentence_check_response[\"choices\"][0]['message'][\"content\"].lower():\n",
    "        chat_history.append({\"role\": \"assistant\", \"content\": \"yes.\"})\n",
    "    else:\n",
    "        return []\n",
    "    annotation_comprehension = {\"role\": \"user\", \"content\": f\"You will now annotate all of the skills in the previous sentence with the following annotation guidelines. Before you attempt this task, please repeat and describe the following annotations so that I know you fully understand them: {annotation_guidelines}\"}\n",
    "    chat_history.append(annotation_comprehension)\n",
    "    annotation_comprehension_response = openai.ChatCompletion.create(\n",
    "      model=\"gpt-4\",\n",
    "      messages=chat_history,\n",
    "        temperature=0.0\n",
    "    )\n",
    "    chat_history.append({\"role\": \"assistant\", \"content\": annotation_comprehension_response['choices'][0]['message'][\"content\"]})\n",
    "    annotation_prompt = {\"role\": \"user\", \"content\": f\"Annotate all of the skills in the previous sentence with the annotation guidelines. Please return ONLY a Python list containing the substrings within the sentence that mention skills. Here is a reminder of the sentence: {sentence}\"}\n",
    "    chat_history.append(annotation_prompt)\n",
    "    attempt = 0\n",
    "    while attempt < 3:\n",
    "        annotation_response = openai.ChatCompletion.create(\n",
    "          model=\"gpt-4\",\n",
    "          messages=chat_history,\n",
    "            temperature=0.0\n",
    "        )\n",
    "        try:\n",
    "            result = ast.literal_eval(annotation_response['choices'][0]['message'][\"content\"])\n",
    "            return result\n",
    "        except: \n",
    "            attempt += 1\n",
    "            # print(f\"Failed attempt: {attempt} to build list\")\n",
    "    return []\n",
    "\n",
    "def remove_space_at_start(input_string):\n",
    "    if input_string.startswith(\" \"):\n",
    "        return input_string[1:]\n",
    "    else:\n",
    "        return input_string\n",
    "\n",
    "def remove_stop_at_end(input_string):\n",
    "    if input_string.endswith(\".\"):\n",
    "        return input_string[:-1]\n",
    "    else:\n",
    "        return input_string\n",
    "\n",
    "def list_to_lowercase(input_list):\n",
    "    return [word.lower() for word in input_list]\n",
    "\n",
    "def is_list_of_strings(input_list):\n",
    "    return all(isinstance(element, str) for element in input_list)\n",
    "\n",
    "def find_sublist_indices(main_list, sublist):\n",
    "    if is_list_of_strings(main_list):\n",
    "        main_list = list_to_lowercase(main_list)\n",
    "    if is_list_of_strings(sublist):\n",
    "        sublist = list_to_lowercase(sublist)\n",
    "\n",
    "    indices = []\n",
    "    sublist_len = len(sublist)\n",
    "\n",
    "    for i in range(len(main_list) - sublist_len + 1):\n",
    "        if main_list[i:i+sublist_len] == sublist:\n",
    "            indices = [i, i + sublist_len]  # This line has been modified to return a tuple\n",
    "    \n",
    "    return indices\n",
    "    \n",
    "def split_sentence(sentence):\n",
    "    # This regex pattern splits the sentence by any whitespace and keeps punctuation\n",
    "    return re.findall(r'\\w+|[.,!?;]', sentence)\n",
    "\n",
    "def label_skills(sentence):\n",
    "    chat_history = [{\"role\": \"system\", \"content\": \"You are a professional data annotator tasked with labelling skills within sentences taken from online job advertisements.\"},\n",
    "                    {\"role\": \"user\", \"content\": f\"Does the following sentence randomly taken from a job advertisement contain any mention of skills required for the role of 'Prompt Engineer'? Answer only 'yes' or 'no' without providing any justification: sentence='{sentence}'\"}]\n",
    "    \n",
    "    sentence_check_response = openai.ChatCompletion.create(\n",
    "        model=\"gpt-3.5-turbo-16k\",\n",
    "        messages=chat_history\n",
    "    )\n",
    "    if 'yes' in sentence_check_response[\"choices\"][0]['message'][\"content\"].lower() and 'not' not in 'yes' in sentence_check_response[\"choices\"][0]['message'][\"content\"].lower():\n",
    "        chat_history.append({\"role\": \"assistant\", \"content\": \"yes.\"})\n",
    "    else:\n",
    "        return []\n",
    "    annotation_prompt = {\"role\": \"user\", \"content\": f\"Annotate all of the skills in the previous sentence. Please return ONLY a Python list containing the substrings within the sentence that mention skills. Here is a reminder of the sentence: {sentence}\"}\n",
    "    chat_history.append(annotation_prompt)\n",
    "    attempt = 0\n",
    "    while attempt < 3:\n",
    "        annotation_response = openai.ChatCompletion.create(\n",
    "          model=\"gpt-3.5-turbo-16k\",\n",
    "          messages=chat_history,\n",
    "            temperature=0.0\n",
    "        )\n",
    "        try:\n",
    "            result = ast.literal_eval(annotation_response['choices'][0]['message'][\"content\"])\n",
    "            return result\n",
    "        except: \n",
    "            attempt += 1\n",
    "            # print(f\"Failed attempt: {attempt} to build list\")\n",
    "    return []\n",
    "\n",
    "def fuzzy_match_indexes(sentence, substring):\n",
    "    s = \" \".join(sentence)\n",
    "    matcher = difflib.SequenceMatcher(None, s, substring)\n",
    "    match = matcher.find_longest_match(0, len(s), 0, len(substring))\n",
    "    start_char_idx = match.a\n",
    "    end_char_idx = match.a + match.size\n",
    "    \n",
    "    # Convert character-level indices to word-level indices\n",
    "    char_count = 0\n",
    "    start_word_idx = 0\n",
    "    end_word_idx = 0\n",
    "\n",
    "    for idx, word in enumerate(sentence):\n",
    "        char_count += len(word)  # Adding the length of the current word\n",
    "        if start_char_idx <= char_count:\n",
    "            start_word_idx = idx\n",
    "            break\n",
    "\n",
    "    for idx, word in enumerate(sentence[start_word_idx:], start=start_word_idx):\n",
    "        char_count += len(word)  # Adding the length of the current word\n",
    "        if end_char_idx <= char_count:\n",
    "            end_word_idx = idx + 1\n",
    "            break\n",
    "\n",
    "    indexes = [start_word_idx, end_word_idx]\n",
    "    return indexes\n",
    "\n",
    "def build_labels(sentence_list:list, # list of words in labelled sentence, ie 'tokens' list in HF dataset \n",
    "                 completion_response_text): # response from GPT-3 on sentence\n",
    "    \"Convert GPT-3 response to numeric list of labels\"\n",
    "    # Build numeric list with no labels prior to adding labels\n",
    "    labels = [0 for _ in range(len(sentence_list))]\n",
    "    # pre-process response removing space\n",
    "    label_response = remove_space_at_start(completion_response_text)\n",
    "    label_response = remove_stop_at_end(label_response)\n",
    "    # if labels returned:\n",
    "    if label_response:\n",
    "        label_list = label_response.split('\\n')\n",
    "        labels = [0 for _ in range(len(sentence_list))]\n",
    "        # find label in sentence\n",
    "        for label in label_list:\n",
    "            indices = find_sublist_indices(sentence_list, label.split(\" \"))\n",
    "            if indices: \n",
    "                # try:\n",
    "                labels[indices[0]] = 1\n",
    "                labels[(indices[0]+1):indices[1]] = [2]*(indices[1]-indices[0]-1)\n",
    "                # except:\n",
    "                #     print(f\"Error occured for labels: {labels} and indices: {indices}\")\n",
    "            else:\n",
    "                # try:\n",
    "                indices = fuzzy_match_indexes(sentence_list, label)\n",
    "                if indices: \n",
    "                    # try:\n",
    "                    labels[indices[0]] = 1\n",
    "                    labels[(indices[0]+1):indices[1]] = [2]*(indices[1]-indices[0]-1)\n",
    "                else:\n",
    "                    print(f\"Indices not found for {completion_response_text} in {sentence_list}\")\n",
    "                # except:\n",
    "                #     print(f\"Error occured getting labels for {completion_response_text} in {sentence_list}\")   \n",
    "    return labels \n",
    "\n",
    "def run_inference_finetune(sentences, model, temperature):\n",
    "    \"Run inference on a list of sentences with a finetuned OpenAI model\"\n",
    "    inference_results = []\n",
    "    for sentence in sentences:\n",
    "        completion_response= openai.Completion.create(\n",
    "        model=model,\n",
    "        prompt=\" \" + sentence + \"\\n\\n###\\n\\n\",\n",
    "        stop=[\" END\"],\n",
    "        temperature=temperature\n",
    "        )\n",
    "        tokens = split_sentence(sentence)\n",
    "        preds = build_labels(tokens, completion_response[\"choices\"][0][\"text\"])\n",
    "        inference_results.append({'tokens': tokens, 'text': completion_response[\"choices\"][0][\"text\"], 'preds': preds})\n",
    "    return inference_results\n",
    "\n",
    "model=\"davinci:ft-autonomy-2023-08-04-19-06-39\"\n",
    "temperature=0.0\n",
    "gpt_inference = run_inference_finetune(sentences, model, temperature)"
   ]
  },
  {
   "cell_type": "markdown",
   "id": "1b2a938a-3df5-434c-895d-95b31b011c87",
   "metadata": {},
   "source": [
    "If we test fine-tuned GPT-3 on the original 'Prompt Engineer' job posting we notice the model does identify some of the same labels as the BERT models but also misses a number of key skills and labels incompletely (`active`, `provide`, `accomplish a` and `build up` are some of the more lacklustre labels):"
   ]
  },
  {
   "cell_type": "code",
   "execution_count": null,
   "id": "16f6b226-e0ac-45dd-a759-1d58700ae04f",
   "metadata": {},
   "outputs": [],
   "source": [
    "#| echo: false\n",
    "def labels_to_words(labelled_tokens:dict # Dictionary containing both list of tokens and list of ner_tags\n",
    "                      ):\n",
    "    \"extracts all labels from dictionary of labelled tokens\"\n",
    "    label_indexes = find_1_to_2_sequences(labelled_tokens['ner_tags'])\n",
    "    labels = []\n",
    "    for index in label_indexes:\n",
    "        labels.append(tokens_to_sentence(labelled_tokens['tokens'][index[0]:index[1]+1]))\n",
    "    return labels \n",
    "\n",
    "def find_1_to_2_sequences(number_list: list # list of numbers \n",
    "                  ):\n",
    "    \"Find all the sequences starting with 1 and ending in 2 in a list of numbers and returns a list of their indexes\"\n",
    "    sequences = []\n",
    "    start = None\n",
    "    for i, val in enumerate(number_list):\n",
    "        if start is None and (val == 1):\n",
    "            start = i  # start of a new sequence\n",
    "        elif start is not None and (val < 1 or val > 2):\n",
    "            # if it's the end of a sequence or the end of the list, save the sequence\n",
    "            end = i - 1\n",
    "            sequences.append([start, end])\n",
    "            start = None  # reset the start index for the next sequence\n",
    "    if start is not None:  # to handle the case where the sequence reaches the end of the list\n",
    "        sequences.append([start, len(number_list) - 1])\n",
    "    return sequences\n",
    "\n",
    "def tokens_to_sentence(tokens:list # list of words\n",
    "                      ):\n",
    "    if len(tokens) > 1:\n",
    "        if tokens[-1] == '.':\n",
    "            sentence = \" \".join(tokens[:-1]) + \".\"\n",
    "        else:\n",
    "            sentence = \" \".join(tokens)\n",
    "    else:\n",
    "            sentence = \" \".join(tokens)\n",
    "    return sentence "
   ]
  },
  {
   "cell_type": "code",
   "execution_count": null,
   "id": "cab53a34-668c-4268-8635-71b7735d7d84",
   "metadata": {},
   "outputs": [
    {
     "data": {
      "text/html": [
       "<div style = \"background-color: #333333; color: #FFFFFF;\">However, large language models are a new type of intelligence, and the art of <span style='background-color: #C99E39;'>instructing</span> them in a way that delivers the best results is still in its infancy — it’s a hybrid between <span style='background-color: #C99E39;'>programming</span>, instructing, and <span style='background-color: #C99E39;'>teaching</span>.<br></div>"
      ],
      "text/plain": [
       "<IPython.core.display.HTML object>"
      ]
     },
     "metadata": {},
     "output_type": "display_data"
    },
    {
     "data": {
      "text/html": [
       "<div style = \"background-color: #333333; color: #FFFFFF;\">You will <span style='background-color: #C99E39;'>figure out the best methods of prompting our AI</span> to accomplish a wide range of tasks, then <span style='background-color: #C99E39;'>document these methods</span> to <span style='background-color: #C99E39;'>build up</span> a library of tools and a set of tutorials that allows others to learn prompt engineering, as well as work with high value partners to directly solve their challenges.<br></div>"
      ],
      "text/plain": [
       "<IPython.core.display.HTML object>"
      ]
     },
     "metadata": {},
     "output_type": "display_data"
    },
    {
     "data": {
      "text/html": [
       "<div style = \"background-color: #333333; color: #FFFFFF;\">Responsibilities: Discover, test, <span style='background-color: #C99E39;'>and document best practices for a wide</span> range of tasks relevant to our customers.<br></div>"
      ],
      "text/plain": [
       "<IPython.core.display.HTML object>"
      ]
     },
     "metadata": {},
     "output_type": "display_data"
    },
    {
     "data": {
      "text/html": [
       "<div style = \"background-color: #333333; color: #FFFFFF;\"><span style='background-color: #C99E39;'>Build up a library of high quality prompts or prompt chains</span> to <span style='background-color: #C99E39;'>accomplish a</span> variety of tasks, with an easy guide to help users search for the one that meets their needs.<br></div>"
      ],
      "text/plain": [
       "<IPython.core.display.HTML object>"
      ]
     },
     "metadata": {},
     "output_type": "display_data"
    },
    {
     "data": {
      "text/html": [
       "<div style = \"background-color: #333333; color: #FFFFFF;\"><span style='background-color: #C99E39;'>Build a set of tutorials and interactive tools</span> that teach the art of prompt engineering to our customers.<br></div>"
      ],
      "text/plain": [
       "<IPython.core.display.HTML object>"
      ]
     },
     "metadata": {},
     "output_type": "display_data"
    },
    {
     "data": {
      "text/html": [
       "<div style = \"background-color: #333333; color: #FFFFFF;\"><span style='background-color: #C99E39;'>Work with large enterprise customers</span> on their prompting strategies.<br></div>"
      ],
      "text/plain": [
       "<IPython.core.display.HTML object>"
      ]
     },
     "metadata": {},
     "output_type": "display_data"
    },
    {
     "data": {
      "text/html": [
       "<div style = \"background-color: #333333; color: #FFFFFF;\">Are an excellent <span style='background-color: #C99E39;'>communicator</span>, and love <span style='background-color: #C99E39;'>teaching technical concepts</span> and <span style='background-color: #C99E39;'>creating high quality documentation</span> that helps out others.<br></div>"
      ],
      "text/plain": [
       "<IPython.core.display.HTML object>"
      ]
     },
     "metadata": {},
     "output_type": "display_data"
    },
    {
     "data": {
      "text/html": [
       "<div style = \"background-color: #333333; color: #FFFFFF;\">Are excited to <span style='background-color: #C99E39;'>talk to motivated customers</span> and help <span style='background-color: #C99E39;'>solve their problems</span>.<br></div>"
      ],
      "text/plain": [
       "<IPython.core.display.HTML object>"
      ]
     },
     "metadata": {},
     "output_type": "display_data"
    },
    {
     "data": {
      "text/html": [
       "<div style = \"background-color: #333333; color: #FFFFFF;\">Have a <span style='background-color: #C99E39;'>creative hacker spirit</span> and love <span style='background-color: #C99E39;'>solving puzzles</span>.<br></div>"
      ],
      "text/plain": [
       "<IPython.core.display.HTML object>"
      ]
     },
     "metadata": {},
     "output_type": "display_data"
    },
    {
     "data": {
      "text/html": [
       "<div style = \"background-color: #333333; color: #FFFFFF;\">Have at least basic <span style='background-color: #C99E39;'>programming</span> skills and would be comfortable writing small Python programs.<br></div>"
      ],
      "text/plain": [
       "<IPython.core.display.HTML object>"
      ]
     },
     "metadata": {},
     "output_type": "display_data"
    },
    {
     "data": {
      "text/html": [
       "<div style = \"background-color: #333333; color: #FFFFFF;\">Have an <span style='background-color: #C99E39;'>organizational mindset</span> and enjoy <span style='background-color: #C99E39;'>building teams from the ground up</span>.<br></div>"
      ],
      "text/plain": [
       "<IPython.core.display.HTML object>"
      ]
     },
     "metadata": {},
     "output_type": "display_data"
    },
    {
     "data": {
      "text/html": [
       "<div style = \"background-color: #333333; color: #FFFFFF;\">You <span style='background-color: #C99E39;'>think holistically</span> and can <span style='background-color: #C99E39;'>proactively identify the needs of an organization</span>.<br></div>"
      ],
      "text/plain": [
       "<IPython.core.display.HTML object>"
      ]
     },
     "metadata": {},
     "output_type": "display_data"
    },
    {
     "data": {
      "text/html": [
       "<div style = \"background-color: #333333; color: #FFFFFF;\"><span style='background-color: #C99E39;'>Make ambiguous problems clear</span> and <span style='background-color: #C99E39;'>identify core principles</span> that can translate across scenarios.<br></div>"
      ],
      "text/plain": [
       "<IPython.core.display.HTML object>"
      ]
     },
     "metadata": {},
     "output_type": "display_data"
    },
    {
     "data": {
      "text/html": [
       "<div style = \"background-color: #333333; color: #FFFFFF;\">Have a passion for <span style='background-color: #C99E39;'>making powerful technology safe and societally beneficial</span>.<br></div>"
      ],
      "text/plain": [
       "<IPython.core.display.HTML object>"
      ]
     },
     "metadata": {},
     "output_type": "display_data"
    },
    {
     "data": {
      "text/html": [
       "<div style = \"background-color: #333333; color: #FFFFFF;\">You anticipate unforeseen risks, model out scenarios, and <span style='background-color: #C99E39;'>provide</span> actionable guidance to internal stakeholders.<br></div>"
      ],
      "text/plain": [
       "<IPython.core.display.HTML object>"
      ]
     },
     "metadata": {},
     "output_type": "display_data"
    },
    {
     "data": {
      "text/html": [
       "<div style = \"background-color: #333333; color: #FFFFFF;\"><span style='background-color: #C99E39;'>Think creatively about the risks and benefits of new technologies</span>, and <span style='background-color: #C99E39;'>think beyond past checklists</span> and playbooks.<br></div>"
      ],
      "text/plain": [
       "<IPython.core.display.HTML object>"
      ]
     },
     "metadata": {},
     "output_type": "display_data"
    },
    {
     "data": {
      "text/html": [
       "<div style = \"background-color: #333333; color: #FFFFFF;\">You stay up-to-date and informed by taking an <span style='background-color: #C99E39;'>active</span> interest in emerging research and industry trends.<br></div>"
      ],
      "text/plain": [
       "<IPython.core.display.HTML object>"
      ]
     },
     "metadata": {},
     "output_type": "display_data"
    },
    {
     "data": {
      "text/html": [
       "<div style = \"background-color: #333333; color: #FFFFFF;\">As such, we greatly value <span style='background-color: #C99E39;'>communication skills</span>.<br></div>"
      ],
      "text/plain": [
       "<IPython.core.display.HTML object>"
      ]
     },
     "metadata": {},
     "output_type": "display_data"
    }
   ],
   "source": [
    "#| echo: false\n",
    "gpt_results = [{'sentence': sentences[i], 'labels': labels_to_words({'tokens': result['tokens'], 'ner_tags': result['preds']})} for i, result in enumerate(gpt_inference)]\n",
    "display_inference_results(gpt_results)"
   ]
  },
  {
   "cell_type": "markdown",
   "id": "4240197e-226d-49c1-8f35-0e2881f46139",
   "metadata": {},
   "source": [
    "We look forward to running more experiments with other GPT-3 models on a range of hyper-parameters and in time GPT-4. We now turn to explore ways in which we can productively prompt OpenAI's LLMs to extract skills. "
   ]
  },
  {
   "cell_type": "markdown",
   "id": "0acb66b3-97d3-4cc9-9602-a9b5f5e49130",
   "metadata": {},
   "source": [
    "### 3. Prompt Design with GPT-3.5 and GPT-4"
   ]
  },
  {
   "cell_type": "markdown",
   "id": "64146ef9-2412-4f82-9e21-8d3129d6b056",
   "metadata": {},
   "source": [
    "Prompt design is an emerging discipline combining programming, instructing, teaching and lots of experimentation. There are infinite ways we could prompt AI to extract skills from text. Within the scope of this experimentation, we explore two approaches:\n",
    "\n",
    "1. Extracting substrings from the original text (similar to the other examples)\n",
    "\n",
    "2. Inferring skills from the original text without the skills needing to match the original content word for word."
   ]
  },
  {
   "cell_type": "markdown",
   "id": "9ef33a5e-8951-48ae-a222-d1ef293b5d39",
   "metadata": {},
   "source": [
    "Thanks to OpenAI's API and python library, we can chain together prompts to guide LLMs to output labelled spans with relative ease. The example prompt chain we want to build is two step: \n",
    "\n",
    "1. identify if a sentence from a job profile mentions any skills\n",
    "\n",
    "2. extract skills from the sentence that mentions skills"
   ]
  },
  {
   "cell_type": "code",
   "execution_count": null,
   "id": "046c9fe3-7b2c-466a-988c-3975cc23878e",
   "metadata": {},
   "outputs": [
    {
     "data": {
      "image/svg+xml": [
       "<?xml version=\"1.0\" encoding=\"UTF-8\" standalone=\"no\"?>\n",
       "<!DOCTYPE svg PUBLIC \"-//W3C//DTD SVG 1.1//EN\"\n",
       " \"http://www.w3.org/Graphics/SVG/1.1/DTD/svg11.dtd\">\n",
       "<!-- Generated by graphviz version 8.1.0 (20230707.0739)\n",
       " -->\n",
       "<!-- Title: PromptingLogic Pages: 1 -->\n",
       "<svg width=\"468pt\" height=\"669pt\"\n",
       " viewBox=\"0.00 0.00 467.88 669.02\" xmlns=\"http://www.w3.org/2000/svg\" xmlns:xlink=\"http://www.w3.org/1999/xlink\">\n",
       "<g id=\"graph0\" class=\"graph\" transform=\"scale(1 1) rotate(0) translate(4 665.02)\">\n",
       "<title>PromptingLogic</title>\n",
       "<polygon fill=\"white\" stroke=\"none\" points=\"-4,4 -4,-665.02 463.88,-665.02 463.88,4 -4,4\"/>\n",
       "<!-- A -->\n",
       "<g id=\"node1\" class=\"node\">\n",
       "<title>A</title>\n",
       "<polygon fill=\"none\" stroke=\"black\" points=\"201.88,-661.02 139.38,-661.02 139.38,-625.02 201.88,-625.02 201.88,-661.02\"/>\n",
       "<text text-anchor=\"middle\" x=\"170.62\" y=\"-637.97\" font-family=\"Times,serif\" font-size=\"14.00\">sentence</text>\n",
       "</g>\n",
       "<!-- C -->\n",
       "<g id=\"node3\" class=\"node\">\n",
       "<title>C</title>\n",
       "<polygon fill=\"none\" stroke=\"black\" points=\"417.25,-589.02 0,-589.02 0,-466.02 417.25,-466.02 417.25,-589.02\"/>\n",
       "<text text-anchor=\"start\" x=\"8\" y=\"-571.72\" font-family=\"Times,serif\" font-size=\"14.00\">system: &quot;You are a professional data annotator tasked with labelling</text>\n",
       "<text text-anchor=\"middle\" x=\"208.62\" y=\"-555.22\" font-family=\"Times,serif\" font-size=\"14.00\">skills within random sentences taken from online job advertisements.&quot; </text>\n",
       "<text text-anchor=\"start\" x=\"8\" y=\"-522.72\" font-family=\"Times,serif\" font-size=\"14.00\">user: &quot;Does the following sentence randomly taken from a job </text>\n",
       "<text text-anchor=\"start\" x=\"8\" y=\"-506.22\" font-family=\"Times,serif\" font-size=\"14.00\">advertisement contain any mention of specific, detailed or relevant skills </text>\n",
       "<text text-anchor=\"start\" x=\"8\" y=\"-489.72\" font-family=\"Times,serif\" font-size=\"14.00\">required for the role of {role}? Answer only &quot;yes&quot; or </text>\n",
       "<text text-anchor=\"start\" x=\"8\" y=\"-473.22\" font-family=\"Times,serif\" font-size=\"14.00\">&quot;no&quot; without providing any justification: sentence={sentence}&quot;</text>\n",
       "</g>\n",
       "<!-- A&#45;&gt;C -->\n",
       "<g id=\"edge1\" class=\"edge\">\n",
       "<title>A&#45;&gt;C</title>\n",
       "<path fill=\"none\" stroke=\"black\" d=\"M176.4,-624.78C178.77,-617.67 181.7,-608.93 184.81,-599.63\"/>\n",
       "<polygon fill=\"black\" stroke=\"black\" points=\"188.39,-600.98 188.25,-590.38 181.75,-598.75 188.39,-600.98\"/>\n",
       "</g>\n",
       "<!-- B -->\n",
       "<g id=\"node2\" class=\"node\">\n",
       "<title>B</title>\n",
       "<polygon fill=\"none\" stroke=\"black\" points=\"273.62,-661.02 219.62,-661.02 219.62,-625.02 273.62,-625.02 273.62,-661.02\"/>\n",
       "<text text-anchor=\"middle\" x=\"246.62\" y=\"-637.97\" font-family=\"Times,serif\" font-size=\"14.00\">role</text>\n",
       "</g>\n",
       "<!-- B&#45;&gt;C -->\n",
       "<g id=\"edge2\" class=\"edge\">\n",
       "<title>B&#45;&gt;C</title>\n",
       "<path fill=\"none\" stroke=\"black\" d=\"M240.85,-624.78C238.48,-617.67 235.55,-608.93 232.44,-599.63\"/>\n",
       "<polygon fill=\"black\" stroke=\"black\" points=\"235.5,-598.75 229,-590.38 228.86,-600.98 235.5,-598.75\"/>\n",
       "</g>\n",
       "<!-- D -->\n",
       "<g id=\"node4\" class=\"node\">\n",
       "<title>D</title>\n",
       "<ellipse fill=\"none\" stroke=\"black\" cx=\"208.62\" cy=\"-399.14\" rx=\"30.88\" ry=\"30.88\"/>\n",
       "<text text-anchor=\"middle\" x=\"208.62\" y=\"-394.09\" font-family=\"Times,serif\" font-size=\"14.00\">LLM</text>\n",
       "</g>\n",
       "<!-- C&#45;&gt;D -->\n",
       "<g id=\"edge3\" class=\"edge\">\n",
       "<title>C&#45;&gt;D</title>\n",
       "<path fill=\"none\" stroke=\"black\" d=\"M208.62,-465.55C208.62,-457.32 208.62,-449.04 208.62,-441.27\"/>\n",
       "<polygon fill=\"black\" stroke=\"black\" points=\"212.13,-441.32 208.62,-431.32 205.13,-441.32 212.13,-441.32\"/>\n",
       "</g>\n",
       "<!-- E -->\n",
       "<g id=\"node5\" class=\"node\">\n",
       "<title>E</title>\n",
       "<polygon fill=\"none\" stroke=\"black\" points=\"199,-332.26 104.25,-332.26 104.25,-296.26 199,-296.26 199,-332.26\"/>\n",
       "<text text-anchor=\"middle\" x=\"151.62\" y=\"-309.21\" font-family=\"Times,serif\" font-size=\"14.00\">assistant: &quot;no&quot;</text>\n",
       "</g>\n",
       "<!-- D&#45;&gt;E -->\n",
       "<g id=\"edge4\" class=\"edge\">\n",
       "<title>D&#45;&gt;E</title>\n",
       "<path fill=\"none\" stroke=\"black\" d=\"M191.52,-373.27C184.64,-363.27 176.7,-351.72 169.73,-341.58\"/>\n",
       "<polygon fill=\"black\" stroke=\"black\" points=\"172.2,-340 163.65,-333.74 166.43,-343.96 172.2,-340\"/>\n",
       "</g>\n",
       "<!-- F -->\n",
       "<g id=\"node6\" class=\"node\">\n",
       "<title>F</title>\n",
       "<polygon fill=\"none\" stroke=\"black\" points=\"316.25,-332.26 217,-332.26 217,-296.26 316.25,-296.26 316.25,-332.26\"/>\n",
       "<text text-anchor=\"middle\" x=\"266.62\" y=\"-309.21\" font-family=\"Times,serif\" font-size=\"14.00\">assistant: &quot;yes&quot;</text>\n",
       "</g>\n",
       "<!-- D&#45;&gt;F -->\n",
       "<g id=\"edge5\" class=\"edge\">\n",
       "<title>D&#45;&gt;F</title>\n",
       "<path fill=\"none\" stroke=\"black\" d=\"M226.03,-373.27C233.03,-363.27 241.11,-351.72 248.21,-341.58\"/>\n",
       "<polygon fill=\"black\" stroke=\"black\" points=\"251.52,-343.94 254.39,-333.74 245.79,-339.93 251.52,-343.94\"/>\n",
       "</g>\n",
       "<!-- G -->\n",
       "<g id=\"node7\" class=\"node\">\n",
       "<title>G</title>\n",
       "<polygon fill=\"none\" stroke=\"black\" points=\"459.88,-260.26 73.38,-260.26 73.38,-169.76 459.88,-169.76 459.88,-260.26\"/>\n",
       "<text text-anchor=\"start\" x=\"81.38\" y=\"-242.96\" font-family=\"Times,serif\" font-size=\"14.00\">user: &quot;Annotate all of the relevant and job&#45;specific skills in the </text>\n",
       "<text text-anchor=\"start\" x=\"81.38\" y=\"-226.46\" font-family=\"Times,serif\" font-size=\"14.00\">previous sentence. Please return ONLY a Python list containing the </text>\n",
       "<text text-anchor=\"start\" x=\"81.38\" y=\"-209.96\" font-family=\"Times,serif\" font-size=\"14.00\">substrings within the sentence that mention skills. Avoid skills that </text>\n",
       "<text text-anchor=\"start\" x=\"81.38\" y=\"-193.46\" font-family=\"Times,serif\" font-size=\"14.00\">are too generic or vague. Here is a reminder of </text>\n",
       "<text text-anchor=\"start\" x=\"81.38\" y=\"-176.96\" font-family=\"Times,serif\" font-size=\"14.00\">the sentence: {sentence}&quot;</text>\n",
       "</g>\n",
       "<!-- F&#45;&gt;G -->\n",
       "<g id=\"edge6\" class=\"edge\">\n",
       "<title>F&#45;&gt;G</title>\n",
       "<path fill=\"none\" stroke=\"black\" d=\"M266.62,-295.87C266.62,-288.8 266.62,-280.21 266.62,-271.31\"/>\n",
       "<polygon fill=\"black\" stroke=\"black\" points=\"270.13,-271.38 266.62,-261.38 263.13,-271.38 270.13,-271.38\"/>\n",
       "</g>\n",
       "<!-- H -->\n",
       "<g id=\"node8\" class=\"node\">\n",
       "<title>H</title>\n",
       "<ellipse fill=\"none\" stroke=\"black\" cx=\"266.62\" cy=\"-102.88\" rx=\"30.88\" ry=\"30.88\"/>\n",
       "<text text-anchor=\"middle\" x=\"266.62\" y=\"-97.83\" font-family=\"Times,serif\" font-size=\"14.00\">LLM</text>\n",
       "</g>\n",
       "<!-- G&#45;&gt;H -->\n",
       "<g id=\"edge7\" class=\"edge\">\n",
       "<title>G&#45;&gt;H</title>\n",
       "<path fill=\"none\" stroke=\"black\" d=\"M266.62,-169.53C266.62,-161.42 266.62,-152.98 266.62,-144.97\"/>\n",
       "<polygon fill=\"black\" stroke=\"black\" points=\"270.13,-145 266.62,-135 263.13,-145 270.13,-145\"/>\n",
       "</g>\n",
       "<!-- I -->\n",
       "<g id=\"node9\" class=\"node\">\n",
       "<title>I</title>\n",
       "<polygon fill=\"none\" stroke=\"black\" points=\"299,-36 234.25,-36 234.25,0 299,0 299,-36\"/>\n",
       "<text text-anchor=\"middle\" x=\"266.62\" y=\"-12.95\" font-family=\"Times,serif\" font-size=\"14.00\">skills list</text>\n",
       "</g>\n",
       "<!-- H&#45;&gt;I -->\n",
       "<g id=\"edge8\" class=\"edge\">\n",
       "<title>H&#45;&gt;I</title>\n",
       "<path fill=\"none\" stroke=\"black\" d=\"M266.62,-71.96C266.62,-63.76 266.62,-54.92 266.62,-46.84\"/>\n",
       "<polygon fill=\"black\" stroke=\"black\" points=\"270.13,-47.1 266.62,-37.1 263.13,-47.1 270.13,-47.1\"/>\n",
       "</g>\n",
       "</g>\n",
       "</svg>\n"
      ],
      "text/plain": [
       "<graphviz.sources.Source>"
      ]
     },
     "metadata": {},
     "output_type": "display_data"
    }
   ],
   "source": [
    "#| echo: false\n",
    "from graphviz import Digraph\n",
    "from IPython.display import display\n",
    "from graphviz import Source\n",
    "\n",
    "dot = Digraph('PromptingLogic', node_attr={'shape': 'box'}, graph_attr={'ratio': 'fill'})\n",
    "\n",
    "dot.node('A', 'sentence')\n",
    "dot.node('B', 'role')\n",
    "\n",
    "dot.node('C', 'system: \"You are a professional data annotator tasked with labelling\\lskills within random sentences taken from online job advertisements.\" \\n\\luser: \"Does the following sentence randomly taken from a job \\ladvertisement contain any mention of specific, detailed or relevant skills \\lrequired for the role of {role}? Answer only \"yes\" or \\l\"no\" without providing any justification: sentence={sentence}\"\\l')\n",
    "dot.node('D', 'LLM', shape='circle')\n",
    "dot.node('E', 'assistant: \"no\"')\n",
    "dot.node('F', 'assistant: \"yes\"')\n",
    "dot.node('G', 'user: \"Annotate all of the relevant and job-specific skills in the \\lprevious sentence. Please return ONLY a Python list containing the \\lsubstrings within the sentence that mention skills. Avoid skills that \\lare too generic or vague. Here is a reminder of \\lthe sentence: {sentence}\"\\l')\n",
    "dot.node('H', 'LLM', shape='circle')\n",
    "dot.node('I', 'skills list')\n",
    "\n",
    "# Define edges\n",
    "dot.edges(['AC', 'BC', 'CD'])\n",
    "dot.edges(['DE', 'DF'])\n",
    "dot.edges(['FG'])\n",
    "dot.edges(['GH'])\n",
    "dot.edges(['HI'])\n",
    "\n",
    "# dot.view()\n",
    "\n",
    "src = Source(dot.source)\n",
    "display(src)"
   ]
  },
  {
   "cell_type": "markdown",
   "id": "4c7dcb3f-4df1-4e2b-a9d9-14fb1a17febf",
   "metadata": {},
   "source": [
    "This prompt chain could be represented in the following `label_skills_chain` function: "
   ]
  },
  {
   "cell_type": "code",
   "execution_count": null,
   "id": "d4308f18-0c42-4b67-86c5-dbb5c1c8e4d7",
   "metadata": {},
   "outputs": [],
   "source": [
    "#| echo: true\n",
    "def label_skills_chain(sentence: str, # sentence from job profile \n",
    "                 role: str # role title from job profile\n",
    "                ) -> list:\n",
    "    \"Extracts skills from job profiles\"\n",
    "    chat_history = _init_chat_history(sentence, role)\n",
    "    contains_skills, contains_skills_chat = _does_sentence_contain_skills(chat_history)  \n",
    "    if not contains_skills:\n",
    "        return []\n",
    "    labelled_skills_chat, skills = _annotate_skills(contains_skills_chat, sentence)\n",
    "    return skills\n",
    "\n",
    "def _init_chat_history(sentence: str, # sentence from job profile\n",
    "                       role: str # role title from job profile\n",
    "                      ) -> list[dict]:\n",
    "    \"Construct initial chat prompt\"\n",
    "    return [\n",
    "        {\"role\": \"system\", \"content\": \"You are a professional data annotator tasked with labelling skills within random sentences taken from online job advertisements.\"},\n",
    "        {\"role\": \"user\", \"content\": f\"Does the following sentence randomly taken from a job advertisement contain any mention of specific, detailed and relevant skills required for the role of {role}? Answer only 'yes' or 'no' without providing any justification: sentence='{sentence}'\"}\n",
    "    ]\n",
    "\n",
    "def _does_sentence_contain_skills(chat_history: list # list of prompts and responses\n",
    "                                 ) -> Tuple[bool, List[dict]]:\n",
    "    \"Check if sentence contains any skills\"\n",
    "    response = openai.ChatCompletion.create(\n",
    "        model=\"gpt-4\",\n",
    "        messages=chat_history,\n",
    "        temperature = 0.0\n",
    "    )\n",
    "    content = response[\"choices\"][0]['message'][\"content\"].lower()\n",
    "    if 'yes' in content and 'no' not in content:\n",
    "        chat_history.append({'role': 'assistant', 'content': 'yes.'})\n",
    "        return True, chat_history\n",
    "    else: \n",
    "        chat_history.append({'role': 'assistant', 'content': 'no.'})\n",
    "        return False, chat_history\n",
    "\n",
    "def _annotate_skills(chat_history: list, # \"Construct initial chat prompt\"\n",
    "                     sentence: str) -> Tuple[List, List]:\n",
    "    \"Label all skills in sentence returning list of skill spans\"\n",
    "    annotation_prompt = {\n",
    "        \"role\": \"user\",\n",
    "        \"content\": f\"Annotate all of the relevant and job-specific skills in the previous sentence. Please return ONLY a Python list containing the substrings within the sentence that mention skills. Avoid skills that are too generic or vague. Here is a reminder of the sentence: {sentence}\"\n",
    "    }\n",
    "    chat_history.append(annotation_prompt)\n",
    "    return _extract_skills_from_response(chat_history)\n",
    "\n",
    "def _extract_skills_from_response(chat_history: list # list of prompts and responses\n",
    "                                 ) -> Tuple[List, List]:\n",
    "    \"Extract skills from the model's response.\"\n",
    "    attempt = 0\n",
    "    temperature = 0\n",
    "    # LLMs hallucinate and return output in myriad formats so we make 3 \n",
    "    # attempts to extract list for varying temperatures\n",
    "    while attempt < 3:\n",
    "        response = openai.ChatCompletion.create(\n",
    "            model=\"gpt-4\",\n",
    "            messages=chat_history,\n",
    "            temperature=temperature\n",
    "        )\n",
    "        try:\n",
    "            chat_history.append({'role': 'assistant', 'content': response['choices'][0]['message'][\"content\"]})\n",
    "            return chat_history, ast.literal_eval(response['choices'][0]['message'][\"content\"])\n",
    "        except SyntaxError:\n",
    "            attempt += 1\n",
    "            temperature += 0.2      \n",
    "    return [], []"
   ]
  },
  {
   "cell_type": "code",
   "execution_count": null,
   "id": "b000e6c6-85d0-4b08-b04f-22f3b62fefc3",
   "metadata": {},
   "outputs": [
    {
     "data": {
      "text/plain": [
       "['program in python', 'cook a mean risotto']"
      ]
     },
     "execution_count": null,
     "metadata": {},
     "output_type": "execute_result"
    }
   ],
   "source": [
    "#| echo: true\n",
    "label_skills_chain(\"You should be able to program in python and cook a mean risotto\", \"Prompt Engineer\")"
   ]
  },
  {
   "cell_type": "markdown",
   "id": "ea9f492b-fc8c-49ea-8977-721f869eed7f",
   "metadata": {},
   "source": [
    "Lets annotate our favourite 'Prompt Engineer' job profile once more: "
   ]
  },
  {
   "cell_type": "code",
   "execution_count": null,
   "id": "6d4bc365-1ce5-4c0e-af22-9bae8df87226",
   "metadata": {},
   "outputs": [],
   "source": [
    "#| echo: false\n",
    "gpt_prompt_results = []\n",
    "for sentence in tqdm(sentences):\n",
    "    gpt_prompt_results.append({'sentence': sentence, 'labels': label_skills_chain(sentence, role=\"Prompt Engineer\")})   "
   ]
  },
  {
   "cell_type": "code",
   "execution_count": null,
   "id": "fc620cbb-d20c-40e3-91ba-8e6b1605ebc9",
   "metadata": {},
   "outputs": [
    {
     "data": {
      "text/html": [
       "<div style = \"background-color: #333333; color: #FFFFFF;\">You will <span style='background-color: #C99E39;'>figure out the best methods of prompting our AI</span> to accomplish a wide range of tasks, then <span style='background-color: #C99E39;'>document these methods</span> to <span style='background-color: #C99E39;'>build up a library of tools</span> and a <span style='background-color: #C99E39;'>set of tutorials</span> that allows others to learn prompt engineering, as well as <span style='background-color: #C99E39;'>work with high value partners</span> to <span style='background-color: #C99E39;'>directly solve their challenges</span>.<br></div>"
      ],
      "text/plain": [
       "<IPython.core.display.HTML object>"
      ]
     },
     "metadata": {},
     "output_type": "display_data"
    },
    {
     "data": {
      "text/html": [
       "<div style = \"background-color: #333333; color: #FFFFFF;\">Given that the field of prompt-engineering is arguably less than 2 years old, this position is a bit hard to hire for!  As a result, we ask that you share with us a specific <span style='background-color: #C99E39;'>prompt engineering project on LLMs</span> that you’re proud of in your application!  Ideally this project should show off a <span style='background-color: #C99E39;'>complex and clever prompting architecture</span> or a <span style='background-color: #C99E39;'>systematic evaluation of an LLM’s behavior</span>.<br></div>"
      ],
      "text/plain": [
       "<IPython.core.display.HTML object>"
      ]
     },
     "metadata": {},
     "output_type": "display_data"
    },
    {
     "data": {
      "text/html": [
       "<div style = \"background-color: #333333; color: #FFFFFF;\">Our interdisciplinary team has experience across <span style='background-color: #C99E39;'>ML</span>, <span style='background-color: #C99E39;'>physics</span>, <span style='background-color: #C99E39;'>policy</span>, <span style='background-color: #C99E39;'>business</span> and <span style='background-color: #C99E39;'>product</span>.<br></div>"
      ],
      "text/plain": [
       "<IPython.core.display.HTML object>"
      ]
     },
     "metadata": {},
     "output_type": "display_data"
    },
    {
     "data": {
      "text/html": [
       "<div style = \"background-color: #333333; color: #FFFFFF;\"><span style='background-color: #C99E39;'>Build up a library of high quality prompts or prompt chains</span> to <span style='background-color: #C99E39;'>accomplish a variety of tasks</span>, with an easy guide to <span style='background-color: #C99E39;'>help users search for the one that meets their needs</span>.<br></div>"
      ],
      "text/plain": [
       "<IPython.core.display.HTML object>"
      ]
     },
     "metadata": {},
     "output_type": "display_data"
    },
    {
     "data": {
      "text/html": [
       "<div style = \"background-color: #333333; color: #FFFFFF;\"><span style='background-color: #C99E39;'>Build a set of tutorials</span> and <span style='background-color: #C99E39;'>interactive tools</span> that <span style='background-color: #C99E39;'>teach the art of prompt engineering</span> to our customers.<br></div>"
      ],
      "text/plain": [
       "<IPython.core.display.HTML object>"
      ]
     },
     "metadata": {},
     "output_type": "display_data"
    },
    {
     "data": {
      "text/html": [
       "<div style = \"background-color: #333333; color: #FFFFFF;\">Have at least a <span style='background-color: #C99E39;'>high level familiarity with the architecture</span> and <span style='background-color: #C99E39;'>operation of large language models</span>.<br></div>"
      ],
      "text/plain": [
       "<IPython.core.display.HTML object>"
      ]
     },
     "metadata": {},
     "output_type": "display_data"
    },
    {
     "data": {
      "text/html": [
       "<div style = \"background-color: #333333; color: #FFFFFF;\">Are an <span style='background-color: #C99E39;'>excellent communicator</span>, and love <span style='background-color: #C99E39;'>teaching technical concepts</span> and <span style='background-color: #C99E39;'>creating high quality documentation</span> that helps out others.<br></div>"
      ],
      "text/plain": [
       "<IPython.core.display.HTML object>"
      ]
     },
     "metadata": {},
     "output_type": "display_data"
    },
    {
     "data": {
      "text/html": [
       "<div style = \"background-color: #333333; color: #FFFFFF;\">Have at least <span style='background-color: #C99E39;'>basic programming skills</span> and would be comfortable <span style='background-color: #C99E39;'>writing small Python programs</span>.<br></div>"
      ],
      "text/plain": [
       "<IPython.core.display.HTML object>"
      ]
     },
     "metadata": {},
     "output_type": "display_data"
    },
    {
     "data": {
      "text/html": [
       "<div style = \"background-color: #333333; color: #FFFFFF;\">As such, we greatly value <span style='background-color: #C99E39;'>communication skills</span>.<br></div>"
      ],
      "text/plain": [
       "<IPython.core.display.HTML object>"
      ]
     },
     "metadata": {},
     "output_type": "display_data"
    }
   ],
   "source": [
    "display_inference_results(gpt_prompt_results)"
   ]
  },
  {
   "cell_type": "markdown",
   "id": "9d0c30dd-50b7-4cd0-8ce0-e1b313eb3de7",
   "metadata": {},
   "source": [
    "Of course we can also use LLMs to infer skills that don't exactly match any substrings in the original text. This is a much more flexible approach and opens up potential for more skills to be identified and a greater level of creativity: "
   ]
  },
  {
   "cell_type": "code",
   "execution_count": null,
   "id": "d2460a08-0dd6-4876-ba48-16dd348b258d",
   "metadata": {},
   "outputs": [],
   "source": [
    "def _annotate_skills(chat_history: list, # \"Construct initial chat prompt\"\n",
    "                     role: str # role title from job profile\n",
    "                    ):\n",
    "    \"Label all skills in sentence returning list of skill spans\"\n",
    "    annotation_prompt = {\n",
    "        \"role\": \"user\",\n",
    "        \"content\": f\"Please return ONLY a Python list containing the unique skill requirements for the role of {role} that you can infer from this sentence. Only include skills that are unique, descriptive and essential for the role. If in doubt, do not include the skill.\"\n",
    "    }\n",
    "    chat_history.append(annotation_prompt)\n",
    "    return _extract_skills_from_response(chat_history)\n",
    "\n",
    "def label_skills_chain(sentence: str, # sentence from job profile \n",
    "                 role: str # role title from job profile\n",
    "                ) -> List:\n",
    "    \"Extracts skills from job profiles\"\n",
    "    chat_history = _init_chat_history(sentence, role)\n",
    "    contains_skills, contains_skills_chat = _does_sentence_contain_skills(chat_history)  \n",
    "    if not contains_skills:\n",
    "        return []\n",
    "    labelled_skills_chat, skills = _annotate_skills(contains_skills_chat, role)\n",
    "    return skills"
   ]
  },
  {
   "cell_type": "code",
   "execution_count": null,
   "id": "1e8c80f4-395e-4336-933e-b6125aaec40e",
   "metadata": {},
   "outputs": [],
   "source": [
    "#| echo: false\n",
    "from tqdm import tqdm\n",
    "gpt_prompt_results = []\n",
    "for sentence in tqdm(sentences):\n",
    "    labels = label_skills_chain(sentence, role=\"Prompt Engineer\")\n",
    "    if labels:\n",
    "        gpt_prompt_results.append({'sentence': sentence, 'labels': labels})   "
   ]
  },
  {
   "cell_type": "code",
   "execution_count": null,
   "id": "aae0d98b-7e00-4749-a63e-ddac84c4aa1d",
   "metadata": {},
   "outputs": [
    {
     "data": {
      "text/html": [
       "<div>\n",
       "<style scoped>\n",
       "    .dataframe tbody tr th:only-of-type {\n",
       "        vertical-align: middle;\n",
       "    }\n",
       "\n",
       "    .dataframe tbody tr th {\n",
       "        vertical-align: top;\n",
       "    }\n",
       "\n",
       "    .dataframe thead th {\n",
       "        text-align: right;\n",
       "    }\n",
       "</style>\n",
       "<table border=\"1\" class=\"dataframe\">\n",
       "  <thead>\n",
       "    <tr style=\"text-align: right;\">\n",
       "      <th></th>\n",
       "      <th>sentence</th>\n",
       "      <th>labels</th>\n",
       "    </tr>\n",
       "  </thead>\n",
       "  <tbody>\n",
       "    <tr>\n",
       "      <th>0</th>\n",
       "      <td>You will figure out the best methods of prompting our AI to accomplish a wide range of tasks, then document these methods to build up a library of tools and a set of tutorials that allows others to learn prompt engineering, as well as work with high value partners to directly solve their challenges.</td>\n",
       "      <td>[figuring out best methods of prompting AI, documenting methods, building a library of tools, creating tutorials, working with high value partners, solving challenges]</td>\n",
       "    </tr>\n",
       "    <tr>\n",
       "      <th>1</th>\n",
       "      <td>Given that the field of prompt-engineering is arguably less than 2 years old, this position is a bit hard to hire for!  As a result, we ask that you share with us a specific prompt engineering project on LLMs that you’re proud of in your application!  Ideally this project should show off a complex and clever prompting architecture or a systematic evaluation of an LLM’s behavior.</td>\n",
       "      <td>[prompt engineering, working with LLMs, developing complex prompting architecture, systematic evaluation of an LLM’s behavior]</td>\n",
       "    </tr>\n",
       "    <tr>\n",
       "      <th>2</th>\n",
       "      <td>Our interdisciplinary team has experience across ML, physics, policy, business and product.</td>\n",
       "      <td>[ML, physics, policy, business, product]</td>\n",
       "    </tr>\n",
       "    <tr>\n",
       "      <th>3</th>\n",
       "      <td>Build up a library of high quality prompts or prompt chains to accomplish a variety of tasks, with an easy guide to help users search for the one that meets their needs.</td>\n",
       "      <td>[Building libraries of prompts, Creating prompt chains, Task accomplishment, Guide creation for user assistance, Understanding user needs]</td>\n",
       "    </tr>\n",
       "    <tr>\n",
       "      <th>4</th>\n",
       "      <td>Build a set of tutorials and interactive tools that teach the art of prompt engineering to our customers.</td>\n",
       "      <td>[Building tutorials, Creating interactive tools, Teaching prompt engineering]</td>\n",
       "    </tr>\n",
       "    <tr>\n",
       "      <th>5</th>\n",
       "      <td>Have at least a high level familiarity with the architecture and operation of large language models.</td>\n",
       "      <td>[high level familiarity with the architecture of large language models, high level familiarity with the operation of large language models]</td>\n",
       "    </tr>\n",
       "    <tr>\n",
       "      <th>6</th>\n",
       "      <td>Are an excellent communicator, and love teaching technical concepts and creating high quality documentation that helps out others.</td>\n",
       "      <td>[excellent communication, teaching technical concepts, creating high quality documentation]</td>\n",
       "    </tr>\n",
       "    <tr>\n",
       "      <th>7</th>\n",
       "      <td>Have at least basic programming skills and would be comfortable writing small Python programs.</td>\n",
       "      <td>[basic programming skills, writing small Python programs]</td>\n",
       "    </tr>\n",
       "    <tr>\n",
       "      <th>8</th>\n",
       "      <td>You anticipate unforeseen risks, model out scenarios, and provide actionable guidance to internal stakeholders.</td>\n",
       "      <td>[risk anticipation, scenario modelling, providing actionable guidance]</td>\n",
       "    </tr>\n",
       "    <tr>\n",
       "      <th>9</th>\n",
       "      <td>As such, we greatly value communication skills.</td>\n",
       "      <td>[communication skills]</td>\n",
       "    </tr>\n",
       "    <tr>\n",
       "      <th>10</th>\n",
       "      <td>This research continues many of the directions our team worked on prior to &lt;ORGANISATION&gt;, including: GPT-3, Circuit-Based Interpretability, Multimodal Neurons, Scaling Laws, AI &amp; Compute, Concrete Problems in AI Safety, and Learning from Human Preferences.</td>\n",
       "      <td>[GPT-3, Circuit-Based Interpretability, Multimodal Neurons, Scaling Laws, AI &amp; Compute, Concrete Problems in AI Safety, Learning from Human Preferences]</td>\n",
       "    </tr>\n",
       "  </tbody>\n",
       "</table>\n",
       "</div>"
      ],
      "text/plain": [
       "                                                                                                                                                                                                                                                                                                                                                                                         sentence  \\\n",
       "0                                                                                    You will figure out the best methods of prompting our AI to accomplish a wide range of tasks, then document these methods to build up a library of tools and a set of tutorials that allows others to learn prompt engineering, as well as work with high value partners to directly solve their challenges.   \n",
       "1   Given that the field of prompt-engineering is arguably less than 2 years old, this position is a bit hard to hire for!  As a result, we ask that you share with us a specific prompt engineering project on LLMs that you’re proud of in your application!  Ideally this project should show off a complex and clever prompting architecture or a systematic evaluation of an LLM’s behavior.   \n",
       "2                                                                                                                                                                                                                                                                                                     Our interdisciplinary team has experience across ML, physics, policy, business and product.   \n",
       "3                                                                                                                                                                                                                       Build up a library of high quality prompts or prompt chains to accomplish a variety of tasks, with an easy guide to help users search for the one that meets their needs.   \n",
       "4                                                                                                                                                                                                                                                                                       Build a set of tutorials and interactive tools that teach the art of prompt engineering to our customers.   \n",
       "5                                                                                                                                                                                                                                                                                            Have at least a high level familiarity with the architecture and operation of large language models.   \n",
       "6                                                                                                                                                                                                                                                              Are an excellent communicator, and love teaching technical concepts and creating high quality documentation that helps out others.   \n",
       "7                                                                                                                                                                                                                                                                                                  Have at least basic programming skills and would be comfortable writing small Python programs.   \n",
       "8                                                                                                                                                                                                                                                                                 You anticipate unforeseen risks, model out scenarios, and provide actionable guidance to internal stakeholders.   \n",
       "9                                                                                                                                                                                                                                                                                                                                                 As such, we greatly value communication skills.   \n",
       "10                                                                                                                              This research continues many of the directions our team worked on prior to <ORGANISATION>, including: GPT-3, Circuit-Based Interpretability, Multimodal Neurons, Scaling Laws, AI & Compute, Concrete Problems in AI Safety, and Learning from Human Preferences.   \n",
       "\n",
       "                                                                                                                                                                     labels  \n",
       "0   [figuring out best methods of prompting AI, documenting methods, building a library of tools, creating tutorials, working with high value partners, solving challenges]  \n",
       "1                                            [prompt engineering, working with LLMs, developing complex prompting architecture, systematic evaluation of an LLM’s behavior]  \n",
       "2                                                                                                                                  [ML, physics, policy, business, product]  \n",
       "3                                [Building libraries of prompts, Creating prompt chains, Task accomplishment, Guide creation for user assistance, Understanding user needs]  \n",
       "4                                                                                             [Building tutorials, Creating interactive tools, Teaching prompt engineering]  \n",
       "5                               [high level familiarity with the architecture of large language models, high level familiarity with the operation of large language models]  \n",
       "6                                                                               [excellent communication, teaching technical concepts, creating high quality documentation]  \n",
       "7                                                                                                                 [basic programming skills, writing small Python programs]  \n",
       "8                                                                                                    [risk anticipation, scenario modelling, providing actionable guidance]  \n",
       "9                                                                                                                                                    [communication skills]  \n",
       "10                 [GPT-3, Circuit-Based Interpretability, Multimodal Neurons, Scaling Laws, AI & Compute, Concrete Problems in AI Safety, Learning from Human Preferences]  "
      ]
     },
     "execution_count": null,
     "metadata": {},
     "output_type": "execute_result"
    }
   ],
   "source": [
    "#| echo: false\n",
    "pd.set_option('display.max_rows', None)\n",
    "pd.set_option('display.max_columns', None)\n",
    "pd.set_option('display.max_colwidth', None)\n",
    "pd.DataFrame(gpt_prompt_results)"
   ]
  },
  {
   "cell_type": "markdown",
   "id": "46d7af1c-0474-481e-8bae-2a381a8143cc",
   "metadata": {},
   "source": [
    "GPT-4 has managed to synthesize skills from the text and rewrite them as action orientated, often removing determiners and splitting skills. `Build a set of tutorials and interactive tools` becomes `Building tutorials` and `Creating interactive tools`. We can easily recompose this prompt chain adding checking steps to further filter results. It is likely that we will continue to use a combination transformers for tasks like skill extraction leveraging prompt design and fine-tuning."
   ]
  },
  {
   "cell_type": "markdown",
   "id": "52e6f512-d0eb-4e1a-ac85-23f9125de231",
   "metadata": {},
   "source": [
    "### Weirdos and Misfits Bonus Level 👾👾👾"
   ]
  },
  {
   "cell_type": "markdown",
   "id": "bf7f0005-1798-472e-97fd-00bc5923eefc",
   "metadata": {},
   "source": [
    "We would be remiss if we didn't test our fine-tuned models and prompt chains on Dominic Cummings' [vintage job ad](https://dominiccummings.com/2020/01/02/two-hands-are-a-lot-were-hiring-data-scientists-project-managers-policy-experts-assorted-weirdos/)."
   ]
  },
  {
   "cell_type": "markdown",
   "id": "1a516493-bf60-4ad2-81dc-4a5516a56c82",
   "metadata": {},
   "source": [
    "![](assets/ten.jpeg)"
   ]
  },
  {
   "cell_type": "markdown",
   "id": "06f12913-3044-4bde-958e-ff2b6784056d",
   "metadata": {},
   "source": [
    "Lets firstly attempt to pass the job profile through Roberta:"
   ]
  },
  {
   "cell_type": "code",
   "execution_count": null,
   "id": "a3803031-5236-4275-90c5-708b29581ab9",
   "metadata": {},
   "outputs": [],
   "source": [
    "#| echo: false\n",
    "file_path = '../assets/cummings.txt'\n",
    "weirdos = separate_text(file_path)"
   ]
  },
  {
   "cell_type": "code",
   "execution_count": null,
   "id": "d2ee1938-f70e-4be7-9a9c-d587d2829f44",
   "metadata": {},
   "outputs": [
    {
     "data": {
      "text/html": [
       "<div style = \"background-color: #333333; color: #FFFFFF;\">Outstanding <span style='background-color: #C99E39;'>mathematical skills</span> are essential.<br></div>"
      ],
      "text/plain": [
       "<IPython.core.display.HTML object>"
      ]
     },
     "metadata": {},
     "output_type": "display_data"
    },
    {
     "data": {
      "text/html": [
       "<div style = \"background-color: #333333; color: #FFFFFF;\">You should be able to <span style='background-color: #C99E39;'>explain to other mathematicians, physicists and computer scientists the ideas</span> in such papers, discuss what could be useful for our projects, <span style='background-color: #C99E39;'>synthesise ideas for other data scientists,</span> and apply them to practical problems.<br></div>"
      ],
      "text/plain": [
       "<IPython.core.display.HTML object>"
      ]
     },
     "metadata": {},
     "output_type": "display_data"
    },
    {
     "data": {
      "text/html": [
       "<div style = \"background-color: #333333; color: #FFFFFF;\">You will be <span style='background-color: #C99E39;'>working with data scientists, designers</span> and others.<br></div>"
      ],
      "text/plain": [
       "<IPython.core.display.HTML object>"
      ]
     },
     "metadata": {},
     "output_type": "display_data"
    },
    {
     "data": {
      "text/html": [
       "<div style = \"background-color: #333333; color: #FFFFFF;\">You should a) have an outstanding record at a great university, b) understand conventional economic theories, c) be interested in arguments on the edge of the field — for example, work by physicists on ‘agent-based models’ or by the hedge fund Bridgewater on the failures/limitations of conventional macro theories/prediction, and d) have very strong maths and be interested in <span style='background-color: #C99E39;'>working with mathematicians, physicists, and computer scientists</span>.<br></div>"
      ],
      "text/plain": [
       "<IPython.core.display.HTML object>"
      ]
     },
     "metadata": {},
     "output_type": "display_data"
    },
    {
     "data": {
      "text/html": [
       "<div style = \"background-color: #333333; color: #FFFFFF;\">The ideal candidate might, for example, have a degree in maths and economics, worked at the LHC in one summer, worked with a quant fund another summer, and <span style='background-color: #C99E39;'>written software</span> for a YC startup in a third summer!\n",
       "\n",
       "We’ve found one of these but want at least one more.<br></div>"
      ],
      "text/plain": [
       "<IPython.core.display.HTML object>"
      ]
     },
     "metadata": {},
     "output_type": "display_data"
    },
    {
     "data": {
      "text/html": [
       "<div style = \"background-color: #333333; color: #FFFFFF;\">We want to hire some VERY <span style='background-color: #C99E39;'>clever</span> young people either straight out of university or recently out with with extreme <span style='background-color: #C99E39;'>curiosity</span> and capacity for hard work.<br></div>"
      ],
      "text/plain": [
       "<IPython.core.display.HTML object>"
      ]
     },
     "metadata": {},
     "output_type": "display_data"
    },
    {
     "data": {
      "text/html": [
       "<div style = \"background-color: #333333; color: #FFFFFF;\"><span style='background-color: #C99E39;'>Managing a large organisation</span> involves some general skills.<br></div>"
      ],
      "text/plain": [
       "<IPython.core.display.HTML object>"
      ]
     },
     "metadata": {},
     "output_type": "display_data"
    },
    {
     "data": {
      "text/html": [
       "<div style = \"background-color: #333333; color: #FFFFFF;\">Whether it is Coca Cola or Apple, some things are very similar — how to <span style='background-color: #C99E39;'>deal with people</span>, how to <span style='background-color: #C99E39;'>build great teams</span> and so on.<br></div>"
      ],
      "text/plain": [
       "<IPython.core.display.HTML object>"
      ]
     },
     "metadata": {},
     "output_type": "display_data"
    },
    {
     "data": {
      "text/html": [
       "<div style = \"background-color: #333333; color: #FFFFFF;\">If you want to figure out what characters around Putin might do, or how international criminal gangs might exploit holes in our border security, you don’t want more Oxbridge English graduates who chat about Lacan at dinner parties with TV producers and <span style='background-color: #C99E39;'>spread fake news about fake news</span>.<br></div>"
      ],
      "text/plain": [
       "<IPython.core.display.HTML object>"
      ]
     },
     "metadata": {},
     "output_type": "display_data"
    },
    {
     "data": {
      "text/html": [
       "<div style = \"background-color: #333333; color: #FFFFFF;\">It’s important when <span style='background-color: #C99E39;'>dealing with large organisations</span> to <span style='background-color: #C99E39;'>dart around at different levels</span>, <span style='background-color: #C99E39;'>not be stuck with formal hierarchies</span>.<br></div>"
      ],
      "text/plain": [
       "<IPython.core.display.HTML object>"
      ]
     },
     "metadata": {},
     "output_type": "display_data"
    }
   ],
   "source": [
    "#| echo: true\n",
    "from transformers import pipeline\n",
    "\n",
    "token_classifier = pipeline(\n",
    "    \"token-classification\", model=\"autosyrup/roberta\", tokenizer=\"autosyrup/roberta\",\n",
    "    ignore_labels=['O']\n",
    ")\n",
    "\n",
    "weirdo_roberta_results = run_inference_hf(weirdos, token_classifier)\n",
    "display_inference_results(weirdo_roberta_results)"
   ]
  },
  {
   "cell_type": "markdown",
   "id": "f083e633-9e0e-40f5-b794-057303f3b4c0",
   "metadata": {},
   "source": [
    "We notice the model picks up on `spread fake news about fake news` as the context may not be clear that whilst this is indeed a (useful) skill, it is undesirable in the opinion of the recruiter. Lets now extend our prompt-chain to include an explanation step where will get GPT-4 to attempt an explanation as to why it has or has not labelled a sentence with skills:"
   ]
  },
  {
   "cell_type": "code",
   "execution_count": null,
   "id": "31d63255-b384-457d-932a-b9e00dee62ee",
   "metadata": {},
   "outputs": [
    {
     "data": {
      "image/svg+xml": [
       "<?xml version=\"1.0\" encoding=\"UTF-8\" standalone=\"no\"?>\n",
       "<!DOCTYPE svg PUBLIC \"-//W3C//DTD SVG 1.1//EN\"\n",
       " \"http://www.w3.org/Graphics/SVG/1.1/DTD/svg11.dtd\">\n",
       "<!-- Generated by graphviz version 8.1.0 (20230707.0739)\n",
       " -->\n",
       "<!-- Title: PromptingLogic Pages: 1 -->\n",
       "<svg width=\"806pt\" height=\"844pt\"\n",
       " viewBox=\"0.00 0.00 806.25 843.77\" xmlns=\"http://www.w3.org/2000/svg\" xmlns:xlink=\"http://www.w3.org/1999/xlink\">\n",
       "<g id=\"graph0\" class=\"graph\" transform=\"scale(1 1) rotate(0) translate(4 839.77)\">\n",
       "<title>PromptingLogic</title>\n",
       "<polygon fill=\"white\" stroke=\"none\" points=\"-4,4 -4,-839.77 802.25,-839.77 802.25,4 -4,4\"/>\n",
       "<!-- A -->\n",
       "<g id=\"node1\" class=\"node\">\n",
       "<title>A</title>\n",
       "<polygon fill=\"none\" stroke=\"black\" points=\"391.38,-835.77 328.88,-835.77 328.88,-799.77 391.38,-799.77 391.38,-835.77\"/>\n",
       "<text text-anchor=\"middle\" x=\"360.12\" y=\"-812.72\" font-family=\"Times,serif\" font-size=\"14.00\">sentence</text>\n",
       "</g>\n",
       "<!-- C -->\n",
       "<g id=\"node3\" class=\"node\">\n",
       "<title>C</title>\n",
       "<polygon fill=\"none\" stroke=\"black\" points=\"606.75,-763.77 189.5,-763.77 189.5,-640.77 606.75,-640.77 606.75,-763.77\"/>\n",
       "<text text-anchor=\"start\" x=\"197.5\" y=\"-746.47\" font-family=\"Times,serif\" font-size=\"14.00\">system: &quot;You are a professional data annotator tasked with labelling</text>\n",
       "<text text-anchor=\"middle\" x=\"398.12\" y=\"-729.97\" font-family=\"Times,serif\" font-size=\"14.00\">skills within random sentences taken from online job advertisements.&quot; </text>\n",
       "<text text-anchor=\"start\" x=\"197.5\" y=\"-697.47\" font-family=\"Times,serif\" font-size=\"14.00\">user: &quot;Does the following sentence randomly taken from a job </text>\n",
       "<text text-anchor=\"start\" x=\"197.5\" y=\"-680.97\" font-family=\"Times,serif\" font-size=\"14.00\">advertisement contain any mention of specific, detailed or relevant skills </text>\n",
       "<text text-anchor=\"start\" x=\"197.5\" y=\"-664.47\" font-family=\"Times,serif\" font-size=\"14.00\">required for the role of {role}? Answer only &quot;yes&quot; or </text>\n",
       "<text text-anchor=\"start\" x=\"197.5\" y=\"-647.97\" font-family=\"Times,serif\" font-size=\"14.00\">&quot;no&quot; without providing any justification: sentence={sentence}&quot;</text>\n",
       "</g>\n",
       "<!-- A&#45;&gt;C -->\n",
       "<g id=\"edge1\" class=\"edge\">\n",
       "<title>A&#45;&gt;C</title>\n",
       "<path fill=\"none\" stroke=\"black\" d=\"M365.9,-799.54C368.27,-792.43 371.2,-783.69 374.31,-774.39\"/>\n",
       "<polygon fill=\"black\" stroke=\"black\" points=\"377.89,-775.74 377.75,-765.14 371.25,-773.51 377.89,-775.74\"/>\n",
       "</g>\n",
       "<!-- B -->\n",
       "<g id=\"node2\" class=\"node\">\n",
       "<title>B</title>\n",
       "<polygon fill=\"none\" stroke=\"black\" points=\"463.12,-835.77 409.12,-835.77 409.12,-799.77 463.12,-799.77 463.12,-835.77\"/>\n",
       "<text text-anchor=\"middle\" x=\"436.12\" y=\"-812.72\" font-family=\"Times,serif\" font-size=\"14.00\">role</text>\n",
       "</g>\n",
       "<!-- B&#45;&gt;C -->\n",
       "<g id=\"edge2\" class=\"edge\">\n",
       "<title>B&#45;&gt;C</title>\n",
       "<path fill=\"none\" stroke=\"black\" d=\"M430.35,-799.54C427.98,-792.43 425.05,-783.69 421.94,-774.39\"/>\n",
       "<polygon fill=\"black\" stroke=\"black\" points=\"425,-773.51 418.5,-765.14 418.36,-775.74 425,-773.51\"/>\n",
       "</g>\n",
       "<!-- D -->\n",
       "<g id=\"node4\" class=\"node\">\n",
       "<title>D</title>\n",
       "<ellipse fill=\"none\" stroke=\"black\" cx=\"398.12\" cy=\"-573.9\" rx=\"30.88\" ry=\"30.88\"/>\n",
       "<text text-anchor=\"middle\" x=\"398.12\" y=\"-568.85\" font-family=\"Times,serif\" font-size=\"14.00\">LLM</text>\n",
       "</g>\n",
       "<!-- C&#45;&gt;D -->\n",
       "<g id=\"edge3\" class=\"edge\">\n",
       "<title>C&#45;&gt;D</title>\n",
       "<path fill=\"none\" stroke=\"black\" d=\"M398.12,-640.31C398.12,-632.08 398.12,-623.8 398.12,-616.03\"/>\n",
       "<polygon fill=\"black\" stroke=\"black\" points=\"401.63,-616.08 398.12,-606.08 394.63,-616.08 401.63,-616.08\"/>\n",
       "</g>\n",
       "<!-- E -->\n",
       "<g id=\"node5\" class=\"node\">\n",
       "<title>E</title>\n",
       "<polygon fill=\"none\" stroke=\"black\" points=\"388.5,-507.02 293.75,-507.02 293.75,-471.02 388.5,-471.02 388.5,-507.02\"/>\n",
       "<text text-anchor=\"middle\" x=\"341.12\" y=\"-483.97\" font-family=\"Times,serif\" font-size=\"14.00\">assistant: &quot;no&quot;</text>\n",
       "</g>\n",
       "<!-- D&#45;&gt;E -->\n",
       "<g id=\"edge4\" class=\"edge\">\n",
       "<title>D&#45;&gt;E</title>\n",
       "<path fill=\"none\" stroke=\"black\" d=\"M381.02,-548.03C374.14,-538.03 366.2,-526.48 359.23,-516.34\"/>\n",
       "<polygon fill=\"black\" stroke=\"black\" points=\"361.7,-514.76 353.15,-508.5 355.93,-518.72 361.7,-514.76\"/>\n",
       "</g>\n",
       "<!-- F -->\n",
       "<g id=\"node11\" class=\"node\">\n",
       "<title>F</title>\n",
       "<polygon fill=\"none\" stroke=\"black\" points=\"578.75,-507.02 479.5,-507.02 479.5,-471.02 578.75,-471.02 578.75,-507.02\"/>\n",
       "<text text-anchor=\"middle\" x=\"529.12\" y=\"-483.97\" font-family=\"Times,serif\" font-size=\"14.00\">assistant: &quot;yes&quot;</text>\n",
       "</g>\n",
       "<!-- D&#45;&gt;F -->\n",
       "<g id=\"edge5\" class=\"edge\">\n",
       "<title>D&#45;&gt;F</title>\n",
       "<path fill=\"none\" stroke=\"black\" d=\"M424.01,-556.52C443.49,-544.19 470.47,-527.12 492.22,-513.37\"/>\n",
       "<polygon fill=\"black\" stroke=\"black\" points=\"493.91,-515.81 500.49,-507.5 490.17,-509.89 493.91,-515.81\"/>\n",
       "</g>\n",
       "<!-- J -->\n",
       "<g id=\"node6\" class=\"node\">\n",
       "<title>J</title>\n",
       "<polygon fill=\"none\" stroke=\"black\" points=\"390.25,-435.02 0,-435.02 0,-394.02 390.25,-394.02 390.25,-435.02\"/>\n",
       "<text text-anchor=\"start\" x=\"8\" y=\"-417.72\" font-family=\"Times,serif\" font-size=\"14.00\">user: &quot;Please explain why you identified or did not identify relevant </text>\n",
       "<text text-anchor=\"start\" x=\"8\" y=\"-401.22\" font-family=\"Times,serif\" font-size=\"14.00\">job skills in this sentence.&quot;</text>\n",
       "</g>\n",
       "<!-- E&#45;&gt;J -->\n",
       "<g id=\"edge8\" class=\"edge\">\n",
       "<title>E&#45;&gt;J</title>\n",
       "<path fill=\"none\" stroke=\"black\" d=\"M306.15,-470.65C287.81,-461.54 265.03,-450.23 244.88,-440.22\"/>\n",
       "<polygon fill=\"black\" stroke=\"black\" points=\"246.74,-436.74 236.23,-435.43 243.63,-443.01 246.74,-436.74\"/>\n",
       "</g>\n",
       "<!-- K -->\n",
       "<g id=\"node7\" class=\"node\">\n",
       "<title>K</title>\n",
       "<ellipse fill=\"none\" stroke=\"black\" cx=\"195.12\" cy=\"-327.14\" rx=\"30.88\" ry=\"30.88\"/>\n",
       "<text text-anchor=\"middle\" x=\"195.12\" y=\"-322.09\" font-family=\"Times,serif\" font-size=\"14.00\">LLM</text>\n",
       "</g>\n",
       "<!-- J&#45;&gt;K -->\n",
       "<g id=\"edge9\" class=\"edge\">\n",
       "<title>J&#45;&gt;K</title>\n",
       "<path fill=\"none\" stroke=\"black\" d=\"M195.12,-393.71C195.12,-386.3 195.12,-377.58 195.12,-368.96\"/>\n",
       "<polygon fill=\"black\" stroke=\"black\" points=\"198.63,-369.21 195.12,-359.21 191.63,-369.21 198.63,-369.21\"/>\n",
       "</g>\n",
       "<!-- L -->\n",
       "<g id=\"node8\" class=\"node\">\n",
       "<title>L</title>\n",
       "<polygon fill=\"none\" stroke=\"black\" points=\"234.62,-233.01 155.62,-233.01 155.62,-197.01 234.62,-197.01 234.62,-233.01\"/>\n",
       "<text text-anchor=\"middle\" x=\"195.12\" y=\"-209.96\" font-family=\"Times,serif\" font-size=\"14.00\">explanation</text>\n",
       "</g>\n",
       "<!-- K&#45;&gt;L -->\n",
       "<g id=\"edge10\" class=\"edge\">\n",
       "<title>K&#45;&gt;L</title>\n",
       "<path fill=\"none\" stroke=\"black\" d=\"M195.12,-296.04C195.12,-279.85 195.12,-260 195.12,-244.12\"/>\n",
       "<polygon fill=\"black\" stroke=\"black\" points=\"198.63,-244.37 195.12,-234.37 191.63,-244.37 198.63,-244.37\"/>\n",
       "</g>\n",
       "<!-- M -->\n",
       "<g id=\"node9\" class=\"node\">\n",
       "<title>M</title>\n",
       "<polygon fill=\"none\" stroke=\"black\" points=\"798.25,-435.02 408,-435.02 408,-394.02 798.25,-394.02 798.25,-435.02\"/>\n",
       "<text text-anchor=\"start\" x=\"416\" y=\"-417.72\" font-family=\"Times,serif\" font-size=\"14.00\">user: &quot;Please explain why you identified or did not identify relevant </text>\n",
       "<text text-anchor=\"start\" x=\"416\" y=\"-401.22\" font-family=\"Times,serif\" font-size=\"14.00\">job skills in this sentence.&quot;</text>\n",
       "</g>\n",
       "<!-- N -->\n",
       "<g id=\"node10\" class=\"node\">\n",
       "<title>N</title>\n",
       "<ellipse fill=\"none\" stroke=\"black\" cx=\"603.12\" cy=\"-327.14\" rx=\"30.88\" ry=\"30.88\"/>\n",
       "<text text-anchor=\"middle\" x=\"603.12\" y=\"-322.09\" font-family=\"Times,serif\" font-size=\"14.00\">LLM</text>\n",
       "</g>\n",
       "<!-- M&#45;&gt;N -->\n",
       "<g id=\"edge12\" class=\"edge\">\n",
       "<title>M&#45;&gt;N</title>\n",
       "<path fill=\"none\" stroke=\"black\" d=\"M603.12,-393.71C603.12,-386.3 603.12,-377.58 603.12,-368.96\"/>\n",
       "<polygon fill=\"black\" stroke=\"black\" points=\"606.63,-369.21 603.12,-359.21 599.63,-369.21 606.63,-369.21\"/>\n",
       "</g>\n",
       "<!-- G -->\n",
       "<g id=\"node12\" class=\"node\">\n",
       "<title>G</title>\n",
       "<polygon fill=\"none\" stroke=\"black\" points=\"796.38,-260.26 409.88,-260.26 409.88,-169.76 796.38,-169.76 796.38,-260.26\"/>\n",
       "<text text-anchor=\"start\" x=\"417.88\" y=\"-242.96\" font-family=\"Times,serif\" font-size=\"14.00\">user: &quot;Annotate all of the relevant and job&#45;specific skills in the </text>\n",
       "<text text-anchor=\"start\" x=\"417.88\" y=\"-226.46\" font-family=\"Times,serif\" font-size=\"14.00\">previous sentence. Please return ONLY a Python list containing the </text>\n",
       "<text text-anchor=\"start\" x=\"417.88\" y=\"-209.96\" font-family=\"Times,serif\" font-size=\"14.00\">substrings within the sentence that mention skills. Avoid skills that </text>\n",
       "<text text-anchor=\"start\" x=\"417.88\" y=\"-193.46\" font-family=\"Times,serif\" font-size=\"14.00\">are too generic or vague. Here is a reminder of </text>\n",
       "<text text-anchor=\"start\" x=\"417.88\" y=\"-176.96\" font-family=\"Times,serif\" font-size=\"14.00\">the sentence: {sentence}&quot;</text>\n",
       "</g>\n",
       "<!-- N&#45;&gt;G -->\n",
       "<g id=\"edge13\" class=\"edge\">\n",
       "<title>N&#45;&gt;G</title>\n",
       "<path fill=\"none\" stroke=\"black\" d=\"M603.12,-296.04C603.12,-288.34 603.12,-279.81 603.12,-271.28\"/>\n",
       "<polygon fill=\"black\" stroke=\"black\" points=\"606.63,-271.52 603.12,-261.52 599.63,-271.52 606.63,-271.52\"/>\n",
       "</g>\n",
       "<!-- F&#45;&gt;M -->\n",
       "<g id=\"edge11\" class=\"edge\">\n",
       "<title>F&#45;&gt;M</title>\n",
       "<path fill=\"none\" stroke=\"black\" d=\"M546.66,-470.83C555.14,-462.53 565.53,-452.35 575.08,-443\"/>\n",
       "<polygon fill=\"black\" stroke=\"black\" points=\"577.14,-445.9 581.83,-436.4 572.24,-440.9 577.14,-445.9\"/>\n",
       "</g>\n",
       "<!-- H -->\n",
       "<g id=\"node13\" class=\"node\">\n",
       "<title>H</title>\n",
       "<ellipse fill=\"none\" stroke=\"black\" cx=\"603.12\" cy=\"-102.88\" rx=\"30.88\" ry=\"30.88\"/>\n",
       "<text text-anchor=\"middle\" x=\"603.12\" y=\"-97.83\" font-family=\"Times,serif\" font-size=\"14.00\">LLM</text>\n",
       "</g>\n",
       "<!-- G&#45;&gt;H -->\n",
       "<g id=\"edge6\" class=\"edge\">\n",
       "<title>G&#45;&gt;H</title>\n",
       "<path fill=\"none\" stroke=\"black\" d=\"M603.12,-169.53C603.12,-161.42 603.12,-152.98 603.12,-144.97\"/>\n",
       "<polygon fill=\"black\" stroke=\"black\" points=\"606.63,-145 603.12,-135 599.63,-145 606.63,-145\"/>\n",
       "</g>\n",
       "<!-- I -->\n",
       "<g id=\"node14\" class=\"node\">\n",
       "<title>I</title>\n",
       "<polygon fill=\"none\" stroke=\"black\" points=\"670.75,-36 535.5,-36 535.5,0 670.75,0 670.75,-36\"/>\n",
       "<text text-anchor=\"middle\" x=\"603.12\" y=\"-12.95\" font-family=\"Times,serif\" font-size=\"14.00\">skills list, explanation</text>\n",
       "</g>\n",
       "<!-- H&#45;&gt;I -->\n",
       "<g id=\"edge7\" class=\"edge\">\n",
       "<title>H&#45;&gt;I</title>\n",
       "<path fill=\"none\" stroke=\"black\" d=\"M603.12,-71.96C603.12,-63.76 603.12,-54.92 603.12,-46.84\"/>\n",
       "<polygon fill=\"black\" stroke=\"black\" points=\"606.63,-47.1 603.12,-37.1 599.63,-47.1 606.63,-47.1\"/>\n",
       "</g>\n",
       "</g>\n",
       "</svg>\n"
      ],
      "text/plain": [
       "<graphviz.sources.Source>"
      ]
     },
     "metadata": {},
     "output_type": "display_data"
    }
   ],
   "source": [
    "#| echo: false\n",
    "from graphviz import Digraph\n",
    "from IPython.display import display\n",
    "from graphviz import Source\n",
    "\n",
    "dot = Digraph('PromptingLogic', node_attr={'shape': 'box'}, graph_attr={'ratio': 'fill'})\n",
    "\n",
    "dot.node('A', 'sentence')\n",
    "dot.node('B', 'role')\n",
    "\n",
    "dot.node('C', 'system: \"You are a professional data annotator tasked with labelling\\lskills within random sentences taken from online job advertisements.\" \\n\\luser: \"Does the following sentence randomly taken from a job \\ladvertisement contain any mention of specific, detailed or relevant skills \\lrequired for the role of {role}? Answer only \"yes\" or \\l\"no\" without providing any justification: sentence={sentence}\"\\l')\n",
    "dot.node('D', 'LLM', shape='circle')\n",
    "dot.node('E', 'assistant: \"no\"')\n",
    "dot.node('J', 'user: \"Please explain why you identified or did not identify relevant \\ljob skills in this sentence.\"\\l')\n",
    "dot.node('K', 'LLM', shape='circle')\n",
    "dot.node('L', 'explanation')\n",
    "dot.node('M', 'user: \"Please explain why you identified or did not identify relevant \\ljob skills in this sentence.\"\\l')\n",
    "dot.node('N', 'LLM', shape='circle')\n",
    "dot.node('F', 'assistant: \"yes\"')\n",
    "dot.node('G', 'user: \"Annotate all of the relevant and job-specific skills in the \\lprevious sentence. Please return ONLY a Python list containing the \\lsubstrings within the sentence that mention skills. Avoid skills that \\lare too generic or vague. Here is a reminder of \\lthe sentence: {sentence}\"\\l')\n",
    "dot.node('H', 'LLM', shape='circle')\n",
    "dot.node('I', 'skills list, explanation')\n",
    "\n",
    "# Define edges\n",
    "dot.edges(['AC', 'BC', 'CD'])\n",
    "dot.edges(['DE', 'DF'])\n",
    "dot.edges(['GH'])\n",
    "dot.edges(['HI'])\n",
    "dot.edges(['EJ'])\n",
    "dot.edges(['JK'])\n",
    "dot.edges(['KL'])\n",
    "dot.edges(['FM'])\n",
    "dot.edges(['MN'])\n",
    "dot.edges(['NG'])\n",
    "\n",
    "# dot.view()\n",
    "\n",
    "src = Source(dot.source)\n",
    "display(src)"
   ]
  },
  {
   "cell_type": "markdown",
   "id": "5bc60270-051e-462d-9d28-54fce6cc5356",
   "metadata": {},
   "source": [
    "The above prompt chain could be represented as follows: "
   ]
  },
  {
   "cell_type": "code",
   "execution_count": null,
   "id": "85f34b4e-3fb5-444e-b1fb-3d9d3670da4e",
   "metadata": {},
   "outputs": [],
   "source": [
    "#| echo: true\n",
    "def label_and_explain_skills_chain(sentence: str, # sentence from job profile \n",
    "                ) -> Tuple[List, str]:\n",
    "    \"Extracts skills from job profiles\"\n",
    "    chat_history = _init_chat_history(sentence)\n",
    "    contains_skills, contains_skills_chat = _does_sentence_contain_skills(chat_history)\n",
    "    explanation_chat, explanation = _explain_skills(contains_skills_chat)\n",
    "    if not contains_skills:\n",
    "        return [], explanation\n",
    "    labelled_skills_chat, skills = _annotate_skills(explanation_chat)\n",
    "    return skills, explanation\n",
    "    \n",
    "def _init_chat_history(sentence: str, # sentence from job profile\n",
    "                      ) -> List[dict]:\n",
    "    \"Construct initial chat prompt\"\n",
    "    return [\n",
    "        {\"role\": \"system\", \"content\": \"You are a professional data annotator tasked with labelling skills within random sentences taken from online job advertisements.\"},\n",
    "        {\"role\": \"user\", \"content\": f\"Does the following sentence randomly taken from a job advertisement contain any mention of specific, detailed and relevant skills required for a job role? Answer only 'yes' or 'no' without providing any justification: sentence='{sentence}'\"}\n",
    "    ]\n",
    "    \n",
    "def _explain_skills(chat_history: list # \"Construct initial chat prompt\"\n",
    "                   ) -> Tuple[List[dict], str]:\n",
    "    \"Force model to explain its labelling decisions\"\n",
    "    explanation_prompt = {\n",
    "        \"role\": \"user\",\n",
    "        \"content\": \"Please explain why you identified or did not identify relevant job skills in this sentence.\"\n",
    "    }\n",
    "    chat_history.append(explanation_prompt)\n",
    "    response = openai.ChatCompletion.create(\n",
    "        model=\"gpt-4\",\n",
    "        messages=chat_history,\n",
    "        temperature = 0.0\n",
    "        )\n",
    "    explanation = response[\"choices\"][0]['message'][\"content\"]\n",
    "    chat_history.append({\"role\": \"assistant\", \"content\": explanation})\n",
    "    return chat_history, explanation\n",
    "\n",
    "def _annotate_skills(chat_history: list, # \"Construct initial chat prompt\"\n",
    "                    ):\n",
    "    \"Label all skills in sentence returning list of skill spans\"\n",
    "    annotation_prompt = {\n",
    "        \"role\": \"user\",\n",
    "        \"content\": f\"Please return ONLY a Python list containing the unique skill requirements for a job role that you can infer from this sentence. Only include skills that could be unique, descriptive and essential for a job role. If in doubt, do not include the skill.\"\n",
    "    }\n",
    "    chat_history.append(annotation_prompt)\n",
    "    return _extract_skills_from_response(chat_history)"
   ]
  },
  {
   "cell_type": "markdown",
   "id": "e48004cc-16bc-4efc-8f12-b579d023ac4c",
   "metadata": {},
   "source": [
    "For brevity we only run inference on the first ~10 sentences. We hope this demonstrates how simple it is to add additional steps for explainability or checking to an existing prompt chain:"
   ]
  },
  {
   "cell_type": "code",
   "execution_count": null,
   "id": "ad1a6894-9001-44f1-8bf2-4f9e2a3374ef",
   "metadata": {},
   "outputs": [],
   "source": [
    "#| echo: false\n",
    "from tqdm import tqdm\n",
    "gpt_prompt_results = []\n",
    "for sentence in tqdm(weirdos[0:11]):\n",
    "    labels, explanation = label_and_explain_skills_chain(sentence)\n",
    "    gpt_prompt_results.append({'sentence': sentence, 'labels': labels, 'explanation': explanation})   "
   ]
  },
  {
   "cell_type": "code",
   "execution_count": null,
   "id": "207ecdb1-35bd-4976-aceb-b432bc247d74",
   "metadata": {},
   "outputs": [
    {
     "data": {
      "text/html": [
       "<div>\n",
       "<style scoped>\n",
       "    .dataframe tbody tr th:only-of-type {\n",
       "        vertical-align: middle;\n",
       "    }\n",
       "\n",
       "    .dataframe tbody tr th {\n",
       "        vertical-align: top;\n",
       "    }\n",
       "\n",
       "    .dataframe thead th {\n",
       "        text-align: right;\n",
       "    }\n",
       "</style>\n",
       "<table border=\"1\" class=\"dataframe\">\n",
       "  <thead>\n",
       "    <tr style=\"text-align: right;\">\n",
       "      <th></th>\n",
       "      <th>sentence</th>\n",
       "      <th>labels</th>\n",
       "      <th>explanation</th>\n",
       "    </tr>\n",
       "  </thead>\n",
       "  <tbody>\n",
       "    <tr>\n",
       "      <th>0</th>\n",
       "      <td>There are many brilliant people in the civil service and politics.</td>\n",
       "      <td>[]</td>\n",
       "      <td>The sentence does not mention any specific, detailed, or relevant skills required for a job role. It only makes a general statement about the people in the civil service and politics, without specifying any particular skills or abilities they might have.</td>\n",
       "    </tr>\n",
       "    <tr>\n",
       "      <th>1</th>\n",
       "      <td>Over the past five months the No10 political team has been lucky to work with some fantastic officials.</td>\n",
       "      <td>[]</td>\n",
       "      <td>The sentence does not mention any specific, detailed, or relevant skills required for a job role. It only talks about the experience of the No10 political team working with some officials, but it does not specify what skills are needed or were used.</td>\n",
       "    </tr>\n",
       "    <tr>\n",
       "      <th>2</th>\n",
       "      <td>But there are also some profound problems at the core of how the British state makes decisions.</td>\n",
       "      <td>[]</td>\n",
       "      <td>The sentence does not mention any specific, detailed, or relevant skills required for a job role. It is a general statement about decision-making in the British state, but does not specify any particular skills or abilities that a job candidate should possess.</td>\n",
       "    </tr>\n",
       "    <tr>\n",
       "      <th>3</th>\n",
       "      <td>This was seen by pundit-world as a very eccentric view in 2014.</td>\n",
       "      <td>[]</td>\n",
       "      <td>The sentence \"This was seen by pundit-world as a very eccentric view in 2014.\" does not mention any specific, detailed, or relevant skills required for a job role. It seems to be a statement about a viewpoint or opinion, rather than a description of job skills or qualifications.</td>\n",
       "    </tr>\n",
       "    <tr>\n",
       "      <th>4</th>\n",
       "      <td>It is no longer seen as eccentric.</td>\n",
       "      <td>[]</td>\n",
       "      <td>The sentence \"It is no longer seen as eccentric.\" does not mention any specific, detailed, or relevant skills required for a job role. It is a general statement and does not provide any information about job requirements or qualifications.</td>\n",
       "    </tr>\n",
       "    <tr>\n",
       "      <th>5</th>\n",
       "      <td>Dealing with these deep problems is supported by many great officials, particularly younger ones, though of course there will naturally be many fears — some reasonable, most unreasonable.</td>\n",
       "      <td>[]</td>\n",
       "      <td>The sentence does not mention any specific, detailed, or relevant skills required for a job role. It talks about dealing with problems and mentions officials, but it does not specify what skills are needed to deal with these problems or to be an official.</td>\n",
       "    </tr>\n",
       "    <tr>\n",
       "      <th>6</th>\n",
       "      <td>Now there is a confluence of: a) Brexit requires many large changes in policy and in the structure of decision-making, b) some people in government are prepared to take risks to change things a lot, and c) a new government with a significant majority and little need to worry about short-term unpopularity while trying to make rapid progress with long-term problems.</td>\n",
       "      <td>[]</td>\n",
       "      <td>The sentence does not identify any relevant job skills because it is discussing political and governmental circumstances, not specifying any particular skills or abilities needed for a job role.</td>\n",
       "    </tr>\n",
       "    <tr>\n",
       "      <th>7</th>\n",
       "      <td>There is a huge amount of low hanging fruit — trillion dollar bills lying on the street — in the intersection of:\\n\\nthe selection, education and training of people for high performance\\nthe frontiers of the science of prediction\\ndata science, AI and cognitive technologies (e.g Seeing Rooms, ‘authoring tools designed for arguing from evidence’, Tetlock/IARPA prediction tournaments that could easily be extended to consider ‘clusters’ of issues around themes like Brexit to improve policy and project management)\\ncommunication (e.g Cialdini)\\ndecision-making institutions at the apex of government.</td>\n",
       "      <td>[education and training for high performance, knowledge in the science of prediction, data science, AI and cognitive technologies, communication skills, experience with decision-making institutions at the apex of government]</td>\n",
       "      <td>The sentence mentions several relevant job skills such as education and training for high performance, knowledge in the science of prediction, data science, AI and cognitive technologies, communication skills, and experience with decision-making institutions at the apex of government.</td>\n",
       "    </tr>\n",
       "    <tr>\n",
       "      <th>8</th>\n",
       "      <td>We want to hire an unusual set of people with different skills and backgrounds to work in Downing Street with the best officials, some as spads and perhaps some as officials.</td>\n",
       "      <td>[]</td>\n",
       "      <td>The sentence mentions the need for \"different skills and backgrounds\", which implies that the job requires a diverse set of skills. However, it does not specify what these skills are.</td>\n",
       "    </tr>\n",
       "    <tr>\n",
       "      <th>9</th>\n",
       "      <td>If you are already an official and you read this blog and think you fit one of these categories, get in touch.</td>\n",
       "      <td>[]</td>\n",
       "      <td>The sentence does not mention any specific, detailed, or relevant skills required for a job role. It only suggests that the reader should get in touch if they believe they fit into a certain category, but it does not specify what that category is or what skills it might require.</td>\n",
       "    </tr>\n",
       "    <tr>\n",
       "      <th>10</th>\n",
       "      <td>The categories are roughly:\\n\\nData scientists and software developers\\nEconomists\\nPolicy experts\\nProject managers\\nCommunication experts\\nJunior researchers one of whom will also be my personal assistant\\nWeirdos and misfits with odd skills\\nWe want to improve performance and make me much less important — and within a year largely redundant.</td>\n",
       "      <td>[data analysis, coding, economic analysis, policy analysis, project coordination, project management, effective communication, public relations, research, data collection]</td>\n",
       "      <td>The sentence mentions several job roles that inherently require specific skills. For instance, data scientists and software developers need skills in data analysis and coding, economists need skills in economic analysis, policy experts need skills in policy analysis and development, project managers need skills in project coordination and management, communication experts need skills in effective communication and public relations, and junior researchers need skills in research and data collection.</td>\n",
       "    </tr>\n",
       "  </tbody>\n",
       "</table>\n",
       "</div>"
      ],
      "text/plain": [
       "                                                                                                                                                                                                                                                                                                                                                                                                                                                                                                                                                                                                                      sentence  \\\n",
       "0                                                                                                                                                                                                                                                                                                                                                                                                                                                                                                                                                           There are many brilliant people in the civil service and politics.   \n",
       "1                                                                                                                                                                                                                                                                                                                                                                                                                                                                                                                      Over the past five months the No10 political team has been lucky to work with some fantastic officials.   \n",
       "2                                                                                                                                                                                                                                                                                                                                                                                                                                                                                                                              But there are also some profound problems at the core of how the British state makes decisions.   \n",
       "3                                                                                                                                                                                                                                                                                                                                                                                                                                                                                                                                                              This was seen by pundit-world as a very eccentric view in 2014.   \n",
       "4                                                                                                                                                                                                                                                                                                                                                                                                                                                                                                                                                                                           It is no longer seen as eccentric.   \n",
       "5                                                                                                                                                                                                                                                                                                                                                                                                                                  Dealing with these deep problems is supported by many great officials, particularly younger ones, though of course there will naturally be many fears — some reasonable, most unreasonable.   \n",
       "6                                                                                                                                                                                                                                               Now there is a confluence of: a) Brexit requires many large changes in policy and in the structure of decision-making, b) some people in government are prepared to take risks to change things a lot, and c) a new government with a significant majority and little need to worry about short-term unpopularity while trying to make rapid progress with long-term problems.   \n",
       "7   There is a huge amount of low hanging fruit — trillion dollar bills lying on the street — in the intersection of:\\n\\nthe selection, education and training of people for high performance\\nthe frontiers of the science of prediction\\ndata science, AI and cognitive technologies (e.g Seeing Rooms, ‘authoring tools designed for arguing from evidence’, Tetlock/IARPA prediction tournaments that could easily be extended to consider ‘clusters’ of issues around themes like Brexit to improve policy and project management)\\ncommunication (e.g Cialdini)\\ndecision-making institutions at the apex of government.   \n",
       "8                                                                                                                                                                                                                                                                                                                                                                                                                                               We want to hire an unusual set of people with different skills and backgrounds to work in Downing Street with the best officials, some as spads and perhaps some as officials.   \n",
       "9                                                                                                                                                                                                                                                                                                                                                                                                                                                                                                               If you are already an official and you read this blog and think you fit one of these categories, get in touch.   \n",
       "10                                                                                                                                                                                                                                                                  The categories are roughly:\\n\\nData scientists and software developers\\nEconomists\\nPolicy experts\\nProject managers\\nCommunication experts\\nJunior researchers one of whom will also be my personal assistant\\nWeirdos and misfits with odd skills\\nWe want to improve performance and make me much less important — and within a year largely redundant.   \n",
       "\n",
       "                                                                                                                                                                                                                              labels  \\\n",
       "0                                                                                                                                                                                                                                 []   \n",
       "1                                                                                                                                                                                                                                 []   \n",
       "2                                                                                                                                                                                                                                 []   \n",
       "3                                                                                                                                                                                                                                 []   \n",
       "4                                                                                                                                                                                                                                 []   \n",
       "5                                                                                                                                                                                                                                 []   \n",
       "6                                                                                                                                                                                                                                 []   \n",
       "7   [education and training for high performance, knowledge in the science of prediction, data science, AI and cognitive technologies, communication skills, experience with decision-making institutions at the apex of government]   \n",
       "8                                                                                                                                                                                                                                 []   \n",
       "9                                                                                                                                                                                                                                 []   \n",
       "10                                                       [data analysis, coding, economic analysis, policy analysis, project coordination, project management, effective communication, public relations, research, data collection]   \n",
       "\n",
       "                                                                                                                                                                                                                                                                                                                                                                                                                                                                                                                explanation  \n",
       "0                                                                                                                                                                                                                                                            The sentence does not mention any specific, detailed, or relevant skills required for a job role. It only makes a general statement about the people in the civil service and politics, without specifying any particular skills or abilities they might have.  \n",
       "1                                                                                                                                                                                                                                                                 The sentence does not mention any specific, detailed, or relevant skills required for a job role. It only talks about the experience of the No10 political team working with some officials, but it does not specify what skills are needed or were used.  \n",
       "2                                                                                                                                                                                                                                                      The sentence does not mention any specific, detailed, or relevant skills required for a job role. It is a general statement about decision-making in the British state, but does not specify any particular skills or abilities that a job candidate should possess.  \n",
       "3                                                                                                                                                                                                                                   The sentence \"This was seen by pundit-world as a very eccentric view in 2014.\" does not mention any specific, detailed, or relevant skills required for a job role. It seems to be a statement about a viewpoint or opinion, rather than a description of job skills or qualifications.  \n",
       "4                                                                                                                                                                                                                                                                           The sentence \"It is no longer seen as eccentric.\" does not mention any specific, detailed, or relevant skills required for a job role. It is a general statement and does not provide any information about job requirements or qualifications.  \n",
       "5                                                                                                                                                                                                                                                           The sentence does not mention any specific, detailed, or relevant skills required for a job role. It talks about dealing with problems and mentions officials, but it does not specify what skills are needed to deal with these problems or to be an official.  \n",
       "6                                                                                                                                                                                                                                                                                                                        The sentence does not identify any relevant job skills because it is discussing political and governmental circumstances, not specifying any particular skills or abilities needed for a job role.  \n",
       "7                                                                                                                                                                                                                             The sentence mentions several relevant job skills such as education and training for high performance, knowledge in the science of prediction, data science, AI and cognitive technologies, communication skills, and experience with decision-making institutions at the apex of government.  \n",
       "8                                                                                                                                                                                                                                                                                                                                   The sentence mentions the need for \"different skills and backgrounds\", which implies that the job requires a diverse set of skills. However, it does not specify what these skills are.  \n",
       "9                                                                                                                                                                                                                                   The sentence does not mention any specific, detailed, or relevant skills required for a job role. It only suggests that the reader should get in touch if they believe they fit into a certain category, but it does not specify what that category is or what skills it might require.  \n",
       "10  The sentence mentions several job roles that inherently require specific skills. For instance, data scientists and software developers need skills in data analysis and coding, economists need skills in economic analysis, policy experts need skills in policy analysis and development, project managers need skills in project coordination and management, communication experts need skills in effective communication and public relations, and junior researchers need skills in research and data collection.  "
      ]
     },
     "execution_count": null,
     "metadata": {},
     "output_type": "execute_result"
    }
   ],
   "source": [
    "#| echo: false\n",
    "pd.DataFrame(gpt_prompt_results)"
   ]
  },
  {
   "cell_type": "code",
   "execution_count": null,
   "id": "b8a14e34-3ec9-49fd-a03f-89f7de49c7ad",
   "metadata": {},
   "outputs": [],
   "source": []
  }
 ],
 "metadata": {
  "kernelspec": {
   "display_name": "python3",
   "language": "python",
   "name": "python3"
  }
 },
 "nbformat": 4,
 "nbformat_minor": 5
}
